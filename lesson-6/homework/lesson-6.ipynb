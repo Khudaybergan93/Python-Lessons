{
 "cells": [
  {
   "cell_type": "code",
   "execution_count": 2,
   "id": "1114b636",
   "metadata": {},
   "outputs": [
    {
     "name": "stdout",
     "output_type": "stream",
     "text": [
      "Modified string: ass_alom\n"
     ]
    }
   ],
   "source": [
    "### 1 st question\n",
    "### Given a string txt, insert an underscore (_) after every third\n",
    "#  character. If a character is a vowel or already has an underscore\n",
    "#  after it, shift the underscore placement to the next character.\n",
    "#  No underscore should be added at the end.\n",
    "\n",
    "txt = input(\"Enter a string: \")\n",
    "\n",
    "vowels = \"aeiouAEIOU\"\n",
    "result = \"\"\n",
    "i = 0 \n",
    "count = 0  \n",
    "\n",
    "while i < len(txt):\n",
    "    result += txt[i]\n",
    "    count += 1\n",
    "\n",
    "    \n",
    "    if count % 3 == 0:\n",
    "        next_char_index = i + 1\n",
    "        \n",
    "        if txt[i] in vowels or (next_char_index < len(txt) and txt[next_char_index] == '_'):\n",
    "            \n",
    "            if next_char_index < len(txt) - 1:\n",
    "                result += txt[next_char_index]\n",
    "                result += \"_\"\n",
    "                i += 1  \n",
    "        else:\n",
    "           \n",
    "            if i < len(txt) - 1:\n",
    "                result += \"_\"\n",
    "    i += 1\n",
    "\n",
    "print(\"Modified string:\", result)"
   ]
  },
  {
   "cell_type": "code",
   "execution_count": 3,
   "id": "8e7e8b8c",
   "metadata": {},
   "outputs": [
    {
     "name": "stdout",
     "output_type": "stream",
     "text": [
      "0\n",
      "1\n",
      "4\n",
      "9\n",
      "16\n"
     ]
    }
   ],
   "source": [
    "### 2 nd question\n",
    "## The provided code stub reads an integer, n, from STDIN.\n",
    "#  For all non-negative integers i where 0 <= i < n, print i^2.\n",
    "n = int(input(\"Enter a number: \"))\n",
    "\n",
    "for i in range(n):\n",
    "    print(i ** 2)\n"
   ]
  },
  {
   "cell_type": "code",
   "execution_count": 7,
   "id": "c29f1438",
   "metadata": {},
   "outputs": [
    {
     "name": "stdout",
     "output_type": "stream",
     "text": [
      "1\n",
      "2\n",
      "3\n",
      "4\n",
      "5\n",
      "6\n",
      "7\n",
      "8\n",
      "9\n",
      "10\n"
     ]
    }
   ],
   "source": [
    "## 3 rd question\n",
    "### Print first 10 natural numbers using a while loop\n",
    "start_num=1\n",
    "end_num=10\n",
    "while start_num<=end_num:\n",
    "    print(start_num)\n",
    "    start_num+=1\n",
    "        \n",
    "        \n",
    "        \n"
   ]
  },
  {
   "cell_type": "markdown",
   "id": "712943ba",
   "metadata": {},
   "source": [
    "3.2 question\n",
    "Exercise 2: Print the following pattern\n",
    "1\n",
    "1 2\n",
    "1 2 3\n",
    "1 2 3 4\n",
    "1 2 3 4 5"
   ]
  },
  {
   "cell_type": "code",
   "execution_count": 9,
   "id": "a631c5d5",
   "metadata": {},
   "outputs": [
    {
     "name": "stdout",
     "output_type": "stream",
     "text": [
      "1 \n",
      "1 2 \n",
      "1 2 3 \n",
      "1 2 3 4 \n",
      "1 2 3 4 5 \n"
     ]
    }
   ],
   "source": [
    "i = 1\n",
    "\n",
    "while i <= 5:\n",
    "    \n",
    "    j = 1\n",
    "    \n",
    "    while j <= i:\n",
    "        print(j, end=' ')\n",
    "        j += 1\n",
    "    print()  \n",
    "    i += 1"
   ]
  },
  {
   "cell_type": "code",
   "execution_count": 41,
   "id": "022d79d6",
   "metadata": {},
   "outputs": [
    {
     "name": "stdout",
     "output_type": "stream",
     "text": [
      "Sum is: 55\n"
     ]
    }
   ],
   "source": [
    "##  exercise 3\n",
    "### Calculate sum of all numbers from 1 to a given number\n",
    "num = int(input(\"Enter number: \"))\n",
    "\n",
    "total = 0\n",
    "for i in range(1, num + 1):\n",
    "    total += i\n",
    "\n",
    "print(\"Sum is:\", total)\n"
   ]
  },
  {
   "cell_type": "code",
   "execution_count": 6,
   "id": "b8907c38",
   "metadata": {},
   "outputs": [
    {
     "name": "stdout",
     "output_type": "stream",
     "text": [
      "2\n",
      "4\n",
      "6\n",
      "8\n",
      "10\n",
      "12\n",
      "14\n",
      "16\n",
      "18\n",
      "20\n"
     ]
    }
   ],
   "source": [
    "#### Exercise 4: Print multiplication table of a given number\n",
    "# 2\n",
    "# 4\n",
    "# 6\n",
    "# 8\n",
    "# 10\n",
    "# 12\n",
    "# 14\n",
    "# 16\n",
    "# 18\n",
    "# 20\n",
    "my_list=list(range(1,21))\n",
    "for i in my_list:\n",
    "    if i%2==0:\n",
    "        print(i)"
   ]
  },
  {
   "cell_type": "code",
   "execution_count": 7,
   "id": "0898af76",
   "metadata": {},
   "outputs": [
    {
     "name": "stdout",
     "output_type": "stream",
     "text": [
      "75\n",
      "150\n",
      "145\n"
     ]
    }
   ],
   "source": [
    "# ### Exercise 5: Display numbers from a list using a loop\n",
    "# Given:\n",
    "\n",
    "# numbers = [12, 75, 150, 180, 145, 525, 50]\n",
    "# Expected Output:\n",
    "\n",
    "# 75\n",
    "# 150\n",
    "# 145\n",
    "numbers = [12, 75, 150, 180, 145, 525, 50]\n",
    "\n",
    "for number in numbers:\n",
    "    if number > 500:\n",
    "        break\n",
    "    if number > 150:\n",
    "        continue\n",
    "    if number % 5 == 0:\n",
    "        print(number)"
   ]
  },
  {
   "cell_type": "code",
   "execution_count": 8,
   "id": "9706057d",
   "metadata": {},
   "outputs": [
    {
     "name": "stdout",
     "output_type": "stream",
     "text": [
      "Total digits: 5\n"
     ]
    }
   ],
   "source": [
    "# Exercise 6: Count the total number of digits in a number\n",
    "# Example:\n",
    "\n",
    "# 75869\n",
    "# Output: 5\n",
    "num = 75869\n",
    "count = 0\n",
    "\n",
    "if num == 0:\n",
    "    count = 1\n",
    "else:\n",
    "    num = abs(num)  \n",
    "    while num > 0:\n",
    "        num = num // 10  \n",
    "        count += 1\n",
    "\n",
    "print(\"Total digits:\", count)"
   ]
  },
  {
   "cell_type": "code",
   "execution_count": 9,
   "id": "a8bac5a9",
   "metadata": {},
   "outputs": [
    {
     "name": "stdout",
     "output_type": "stream",
     "text": [
      "5 4 3 2 1 \n",
      "4 3 2 1 \n",
      "3 2 1 \n",
      "2 1 \n",
      "1 \n"
     ]
    }
   ],
   "source": [
    "# Exercise 7: Print reverse number pattern\n",
    "# 5 4 3 2 1\n",
    "# 4 3 2 1\n",
    "# 3 2 1\n",
    "# 2 1\n",
    "# 1\n",
    "\n",
    "my_list1 = [1, 2, 3, 4, 5]\n",
    "\n",
    "# Start from the end of the list and decrease range\n",
    "for i in range(len(my_list1), 0, -1):\n",
    "    for j in range(i - 1, -1, -1):\n",
    "        print(my_list1[j], end=' ')\n",
    "    print()"
   ]
  },
  {
   "cell_type": "code",
   "execution_count": 13,
   "id": "1265b2d6",
   "metadata": {},
   "outputs": [
    {
     "name": "stdout",
     "output_type": "stream",
     "text": [
      "50\n",
      "40\n",
      "30\n",
      "20\n",
      "10\n"
     ]
    }
   ],
   "source": [
    "### Exercise 8: Print list in reverse order using a loop\n",
    "# Given:\n",
    "\n",
    "# list1 = [10, 20, 30, 40, 50]\n",
    "# Expected Output:\n",
    "\n",
    "# 50\n",
    "# 40\n",
    "# 30\n",
    "# 20\n",
    "# 10\n",
    "\n",
    "list1 = [10, 20, 30, 40, 50]\n",
    "\n",
    "for i in range(len(list1) - 1, -1, -1):\n",
    "    print(list1[i])\n"
   ]
  },
  {
   "cell_type": "code",
   "execution_count": 19,
   "id": "5f679e2f",
   "metadata": {},
   "outputs": [
    {
     "name": "stdout",
     "output_type": "stream",
     "text": [
      "-10\n",
      "-9\n",
      "-8\n",
      "-7\n",
      "-6\n",
      "-5\n",
      "-4\n",
      "-3\n",
      "-2\n",
      "-1\n"
     ]
    }
   ],
   "source": [
    "# Exercise 9: Display numbers from -10 to -1 using a for loop\n",
    "# -10\n",
    "# -9\n",
    "# -8\n",
    "# -7\n",
    "# -6\n",
    "# -5\n",
    "# -4\n",
    "# -3\n",
    "# -2\n",
    "# -1\n",
    "nume1 = [-1, -2, -3, -4, -5, -6, -7, -8, -9, -10]\n",
    "\n",
    "for num in sorted(nume1):\n",
    "    print(num)\n",
    "    \n"
   ]
  },
  {
   "cell_type": "code",
   "execution_count": 34,
   "id": "8a2e72ed",
   "metadata": {},
   "outputs": [
    {
     "name": "stdout",
     "output_type": "stream",
     "text": [
      "0\n",
      "1\n",
      "2\n",
      "3\n",
      "4\n",
      "Done\n"
     ]
    }
   ],
   "source": [
    "# Exercise 10: Display message “Done” after successful loop execution\n",
    "# Example:\n",
    "\n",
    "# 0\n",
    "# 1\n",
    "# 2\n",
    "# 3\n",
    "# 4\n",
    "# Done!\n",
    "My_numbers=(0,1,2,3,4)\n",
    "for i in My_numbers:\n",
    "    print(i)\n",
    "else:\n",
    "    print('Done')"
   ]
  },
  {
   "cell_type": "code",
   "execution_count": 31,
   "id": "7ab68472",
   "metadata": {},
   "outputs": [
    {
     "name": "stdout",
     "output_type": "stream",
     "text": [
      "Prime numbers between 25 and 50 are:\n",
      "29\n",
      "31\n",
      "37\n",
      "41\n",
      "43\n",
      "47\n"
     ]
    }
   ],
   "source": [
    "# Exercise 11: Print all prime numbers within a range\n",
    "# Example:\n",
    "\n",
    "# Prime numbers between 25 and 50:\n",
    "# 29\n",
    "# 31\n",
    "# 37\n",
    "# 41\n",
    "# 43\n",
    "# 47\n",
    "\n",
    "start = 25\n",
    "end = 50\n",
    "\n",
    "print(\"Prime numbers between\", start, \"and\", end, \"are:\")\n",
    "\n",
    "for num in range(start, end + 1):\n",
    "    if num > 1:\n",
    "        # check for factors\n",
    "        for i in range(2, int(num ** 0.5) + 1):\n",
    "            if (num % i) == 0:\n",
    "                break\n",
    "        else:\n",
    "            print(num)"
   ]
  },
  {
   "cell_type": "code",
   "execution_count": 35,
   "id": "dd2c35c8",
   "metadata": {},
   "outputs": [
    {
     "name": "stdout",
     "output_type": "stream",
     "text": [
      "Fibonacci sequence:\n",
      "0 1 1 2 3 5 8 13 21 34 "
     ]
    }
   ],
   "source": [
    "# Exercise 12: Display Fibonacci series up to 10 terms\n",
    "# Example:\n",
    "\n",
    "# Fibonacci sequence:\n",
    "# 0  1  1  2  3  5  8  13  21  34\n",
    "\n",
    "n_terms = 10\n",
    "\n",
    "a, b = 0, 1\n",
    "\n",
    "print(\"Fibonacci sequence:\")\n",
    "\n",
    "for _ in range(n_terms):\n",
    "    print(a, end=' ')\n",
    "    a, b = b, a + b"
   ]
  },
  {
   "cell_type": "code",
   "execution_count": 36,
   "id": "fbb178d0",
   "metadata": {},
   "outputs": [
    {
     "name": "stdout",
     "output_type": "stream",
     "text": [
      "The factorial of 5 is 120\n"
     ]
    }
   ],
   "source": [
    "##Exercise 13: Find the factorial of a given number\n",
    "##Example:\n",
    "\n",
    "##  5! = 120\n",
    "\n",
    "num = 5\n",
    "factorial = 1\n",
    "\n",
    "if num < 0:\n",
    "    print(\"Factorial does not exist for negative numbers\")\n",
    "elif num == 0:\n",
    "    print(\"The factorial of 0 is 1\")\n",
    "else:\n",
    "    for i in range(1, num + 1):\n",
    "        factorial *= i\n",
    "    print(f\"The factorial of {num} is {factorial}\")"
   ]
  },
  {
   "cell_type": "code",
   "execution_count": 40,
   "id": "3b0f186e",
   "metadata": {},
   "outputs": [
    {
     "name": "stdout",
     "output_type": "stream",
     "text": [
      "[1, 1, 3, 4]\n",
      "[1, 2, 3, 4, 5, 6]\n",
      "[1, 2, 2, 5]\n"
     ]
    }
   ],
   "source": [
    "## 4. Return Uncommon Elements of Lists\n",
    "from collections import Counter\n",
    "\n",
    "def uncommon_elements(list1, list2):\n",
    "    c1 = Counter(list1)\n",
    "    c2 = Counter(list2)\n",
    "\n",
    "    \n",
    "    result = []\n",
    "\n",
    "    for elem in c1:\n",
    "        if elem not in c2:\n",
    "            result.extend([elem] * c1[elem])\n",
    "        else:\n",
    "            if c1[elem] > c2[elem]:\n",
    "                result.extend([elem] * (c1[elem] - c2[elem]))\n",
    "\n",
    "    for elem in c2:\n",
    "        if elem not in c1:\n",
    "            result.extend([elem] * c2[elem])\n",
    "        else:\n",
    "            if c2[elem] > c1[elem]:\n",
    "                result.extend([elem] * (c2[elem] - c1[elem]))\n",
    "\n",
    "    return result\n",
    "print(uncommon_elements([1, 1, 2], [2, 3, 4]))         \n",
    "print(uncommon_elements([1, 2, 3], [4, 5, 6]))          \n",
    "print(uncommon_elements([1, 1, 2, 3, 4, 2], [1, 3, 4, 5]))"
   ]
  },
  {
   "cell_type": "code",
   "execution_count": null,
   "id": "59417aad",
   "metadata": {},
   "outputs": [],
   "source": []
  }
 ],
 "metadata": {
  "kernelspec": {
   "display_name": "Python 3",
   "language": "python",
   "name": "python3"
  },
  "language_info": {
   "codemirror_mode": {
    "name": "ipython",
    "version": 3
   },
   "file_extension": ".py",
   "mimetype": "text/x-python",
   "name": "python",
   "nbconvert_exporter": "python",
   "pygments_lexer": "ipython3",
   "version": "3.13.3"
  }
 },
 "nbformat": 4,
 "nbformat_minor": 5
}
