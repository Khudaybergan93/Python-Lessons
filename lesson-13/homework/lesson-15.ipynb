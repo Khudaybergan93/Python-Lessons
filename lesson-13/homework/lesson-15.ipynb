{
 "cells": [
  {
   "cell_type": "code",
   "execution_count": 13,
   "id": "ed822152",
   "metadata": {},
   "outputs": [
    {
     "name": "stdout",
     "output_type": "stream",
     "text": [
      "You are 26 years, 10 months, and 11 days old.\n"
     ]
    }
   ],
   "source": [
    "## 1 st question Age Calculator: Ask the user to enter their birthdate.\n",
    "## Calculate and print their age in years, months, and days.\n",
    "from datetime import datetime, date\n",
    "from dateutil.relativedelta import relativedelta\n",
    "birthdate_input = input(\"Enter your birthdate (YYYY-MM-DD): \")\n",
    "try:\n",
    "    birthdate = datetime.strptime(birthdate_input, \"%Y-%m-%d\").date()\n",
    "except ValueError:\n",
    "    print(\"Invalid format. Please enter the date in YYYY-MM-DD format.\")\n",
    "    exit()\n",
    "today = date.today()\n",
    "age = relativedelta(today, birthdate)\n",
    "print(f\"You are {age.years} years, {age.months} months, and {age.days} days old.\")"
   ]
  },
  {
   "cell_type": "code",
   "execution_count": 15,
   "id": "8c84cd78",
   "metadata": {},
   "outputs": [
    {
     "name": "stdout",
     "output_type": "stream",
     "text": [
      "Your next birthday is in 108 day(s).\n"
     ]
    }
   ],
   "source": [
    "## 2nd question Days Until Next Birthday: Similar to the first exercise, but this time, \n",
    "# calculate and print the number of days remaining until the user's next birthday.\n",
    "from datetime import datetime, date, timedelta\n",
    "\n",
    "birthdate_input = input(\"Enter your birthdate (YYYY-MM-DD): \")\n",
    "\n",
    "try:\n",
    "    birthdate = datetime.strptime(birthdate_input, \"%Y-%m-%d\").date()\n",
    "except ValueError:\n",
    "    print(\"Invalid format. Please use YYYY-MM-DD.\")\n",
    "    exit()\n",
    "\n",
    "today = date.today()\n",
    "\n",
    "this_year_birthday = birthdate.replace(year=today.year)\n",
    "\n",
    "if this_year_birthday < today:\n",
    "    next_birthday = this_year_birthday.replace(year=today.year + 1)\n",
    "else:\n",
    "    next_birthday = this_year_birthday\n",
    "\n",
    "days_until_birthday = (next_birthday - today).days\n",
    "\n",
    "\n",
    "print(f\"Your next birthday is in {days_until_birthday} day(s).\")"
   ]
  },
  {
   "cell_type": "code",
   "execution_count": 1,
   "id": "26c421b7",
   "metadata": {},
   "outputs": [
    {
     "name": "stdout",
     "output_type": "stream",
     "text": [
      "The meeting will end at: 2025-07-20 20:55\n"
     ]
    }
   ],
   "source": [
    "## 3 rd question. Meeting Scheduler: Ask the user to enter the current date and time, \n",
    "# as well as the duration of a meeting in hours and minutes. \n",
    "# Calculate and print the date and time when the meeting will end.\n",
    "from datetime import datetime, timedelta\n",
    "\n",
    "current_input = input(\"Enter the current date and time (YYYY-MM-DD HH:MM): \")\n",
    "\n",
    "try:\n",
    "    current_datetime = datetime.strptime(current_input, \"%Y-%m-%d %H:%M\")\n",
    "except ValueError:\n",
    "    print(\"Invalid format. Please use YYYY-MM-DD HH:MM.\")\n",
    "    exit()\n",
    "\n",
    "try:\n",
    "    hours = int(input(\"Enter the meeting duration in hours: \"))\n",
    "    minutes = int(input(\"Enter the meeting duration in minutes: \"))\n",
    "except ValueError:\n",
    "    print(\"Please enter valid numbers for hours and minutes.\")\n",
    "    exit()\n",
    "\n",
    "duration = timedelta(hours=hours, minutes=minutes)\n",
    "end_time = current_datetime + duration\n",
    "\n",
    "print(f\"The meeting will end at: {end_time.strftime('%Y-%m-%d %H:%M')}\")"
   ]
  },
  {
   "cell_type": "code",
   "execution_count": 3,
   "id": "22104144",
   "metadata": {},
   "outputs": [
    {
     "name": "stdout",
     "output_type": "stream",
     "text": [
      "\n",
      "Time in Tashkent: 2025-07-20 23:00\n"
     ]
    }
   ],
   "source": [
    "## 4 th question. Timezone Converter: Create a program that allows the user to enter\n",
    "#  a date and time along with their current timezone, \n",
    "# and then convert and print the date and time in another timezone of their choice.\n",
    "from datetime import datetime\n",
    "import pytz\n",
    "\n",
    "user_input = input(\"Enter the date and time (YYYY-MM-DD HH:MM): \")\n",
    "\n",
    "direction = input(\"Convert from (1) New York to Tashkent or (2) Tashkent to New York? Enter 1 or 2: \")\n",
    "\n",
    "try:\n",
    "    \n",
    "    naive_datetime = datetime.strptime(user_input, \"%Y-%m-%d %H:%M\")\n",
    "\n",
    "    \n",
    "    ny_tz = pytz.timezone(\"US/Eastern\")\n",
    "    tashkent_tz = pytz.timezone(\"Asia/Tashkent\")\n",
    "\n",
    "    if direction == \"1\":\n",
    "        \n",
    "        ny_time = ny_tz.localize(naive_datetime)\n",
    "        tashkent_time = ny_time.astimezone(tashkent_tz)\n",
    "        print(f\"\\nTime in Tashkent: {tashkent_time.strftime('%Y-%m-%d %H:%M')}\")\n",
    "    elif direction == \"2\":\n",
    "        \n",
    "        tashkent_time = tashkent_tz.localize(naive_datetime)\n",
    "        ny_time = tashkent_time.astimezone(ny_tz)\n",
    "        print(f\"\\nTime in New York: {ny_time.strftime('%Y-%m-%d %H:%M')}\")\n",
    "    else:\n",
    "        print(\"Invalid choice. Please enter 1 or 2.\")\n",
    "except Exception as e:\n",
    "    print(f\"Error: {e}\\nPlease check your input format.\")"
   ]
  },
  {
   "cell_type": "code",
   "execution_count": 5,
   "id": "fcf6ae93",
   "metadata": {},
   "outputs": [
    {
     "name": "stdout",
     "output_type": "stream",
     "text": [
      "\n",
      "Countdown started...\n",
      "\n",
      " Countdown complete!\n"
     ]
    }
   ],
   "source": [
    "## 5 th question. Countdown Timer: Implement a countdown timer. \n",
    "# Ask the user to input a future date and time, and then continuously\n",
    "#  print the time remaining until that point in regular intervals (e.g., every second).\n",
    "import time\n",
    "from datetime import datetime\n",
    "\n",
    "user_input = input(\"Enter a future date and time (YYYY-MM-DD HH:MM:SS): \")\n",
    "\n",
    "try:\n",
    "    target_time = datetime.strptime(user_input, \"%Y-%m-%d %H:%M:%S\")\n",
    "except ValueError:\n",
    "    print(\"Invalid format. Please use YYYY-MM-DD HH:MM:SS.\")\n",
    "    exit()\n",
    "\n",
    "print(\"\\nCountdown started...\\n\")\n",
    "\n",
    "while True:\n",
    "    now = datetime.now()\n",
    "    time_left = target_time - now\n",
    "\n",
    "    if time_left.total_seconds() <= 0:\n",
    "        print(\" Countdown complete!\")\n",
    "        break\n",
    "\n",
    "   \n",
    "    days = time_left.days\n",
    "    hours, remainder = divmod(time_left.seconds, 3600)\n",
    "    minutes, seconds = divmod(remainder, 60)\n",
    "\n",
    "   \n",
    "    print(f\"Time remaining: {days}d {hours}h {minutes}m {seconds}s\", end=\"\\r\")\n",
    "\n",
    "    \n",
    "    time.sleep(1)\n"
   ]
  },
  {
   "cell_type": "code",
   "execution_count": 6,
   "id": "dec0379c",
   "metadata": {},
   "outputs": [
    {
     "name": "stdout",
     "output_type": "stream",
     "text": [
      "✅ Valid email address.\n"
     ]
    }
   ],
   "source": [
    "## 6 th question. Email Validator: Write a program that validates email addresses. \n",
    "# Ask the user to input an email address, and check if it follows a valid email format.\n",
    "import re\n",
    "\n",
    "email_pattern = r\"^[a-zA-Z0-9_.+-]+@[a-zA-Z0-9-]+\\.[a-zA-Z0-9-.]+$\"\n",
    "\n",
    "email = input(\"Enter an email address: \")\n",
    "\n",
    "\n",
    "if re.match(email_pattern, email):\n",
    "    print(\"✅ Valid email address.\")\n",
    "else:\n",
    "    print(\"❌ Invalid email address.\")"
   ]
  },
  {
   "cell_type": "code",
   "execution_count": 7,
   "id": "d3dcde98",
   "metadata": {},
   "outputs": [
    {
     "name": "stdout",
     "output_type": "stream",
     "text": [
      "Formatted Phone Number: (688) 564-8971\n"
     ]
    }
   ],
   "source": [
    "## 7 th question. Phone Number Formatter: Create a program that takes a phone number\n",
    "#  as input and formats it according to a standard format. For example,\n",
    "#  convert \"1234567890\" to \"(123) 456-7890\".\n",
    "import re\n",
    "\n",
    "phone = input(\"Enter a 10-digit phone number: \")\n",
    "\n",
    "digits = re.sub(r\"\\D\", \"\", phone)\n",
    "\n",
    "if len(digits) == 10:\n",
    "    formatted = f\"({digits[:3]}) {digits[3:6]}-{digits[6:]}\"\n",
    "    print(f\"Formatted Phone Number: {formatted}\")\n",
    "else:\n",
    "    print(\"❌ Invalid input. Please enter exactly 10 digits.\")"
   ]
  },
  {
   "cell_type": "code",
   "execution_count": 8,
   "id": "33e65ff5",
   "metadata": {},
   "outputs": [
    {
     "name": "stdout",
     "output_type": "stream",
     "text": [
      "✅ Strong password!\n"
     ]
    }
   ],
   "source": [
    "## 8 th question. Password Strength Checker: Implement a password strength checker. \n",
    "# Ask the user to input a password and check if it meets certain criteria \n",
    "# (e.g., minimum length, contains at least one uppercase letter, one lowercase letter, and one digit).\n",
    "import re\n",
    "\n",
    "password = input(\"Enter a password to check its strength: \")\n",
    "\n",
    "\n",
    "length_ok = len(password) >= 8\n",
    "uppercase_ok = re.search(r\"[A-Z]\", password)\n",
    "lowercase_ok = re.search(r\"[a-z]\", password)\n",
    "digit_ok = re.search(r\"\\d\", password)\n",
    "\n",
    "\n",
    "if length_ok and uppercase_ok and lowercase_ok and digit_ok:\n",
    "    print(\"✅ Strong password!\")\n",
    "else:\n",
    "    print(\"❌ Weak password. Your password must contain:\")\n",
    "    if not length_ok:\n",
    "        print(\"- At least 8 characters\")\n",
    "    if not uppercase_ok:\n",
    "        print(\"- At least one uppercase letter (A–Z)\")\n",
    "    if not lowercase_ok:\n",
    "        print(\"- At least one lowercase letter (a–z)\")\n",
    "    if not digit_ok:\n",
    "        print(\"- At least one digit (0–9)\")"
   ]
  },
  {
   "cell_type": "code",
   "execution_count": 9,
   "id": "1a6e202d",
   "metadata": {},
   "outputs": [
    {
     "name": "stdout",
     "output_type": "stream",
     "text": [
      "\n",
      "❌ The word 'look' was not found in the text.\n"
     ]
    }
   ],
   "source": [
    "# 9 th question. Word Finder: Develop a program that finds all occurrences of\n",
    "#  a specific word in a given text. Ask the user to input a word, and then \n",
    "# search for and print all occurrences of that word in a sample text.\n",
    "import re\n",
    "\n",
    "sample_text = \"\"\"\n",
    "Python is a powerful programming language. Python is widely used in data science,\n",
    "web development, automation, and more. Learning Python is fun and rewarding.\n",
    "\"\"\"\n",
    "\n",
    "search_word = input(\"Enter a word to search for: \").strip()\n",
    "\n",
    "\n",
    "matches = re.findall(rf\"\\b{re.escape(search_word)}\\b\", sample_text, flags=re.IGNORECASE)\n",
    "\n",
    "if matches:\n",
    "    print(f\"\\n✅ The word '{search_word}' was found {len(matches)} time(s).\")\n",
    "    print(\"Occurrences (highlighted in context):\")\n",
    "    \n",
    "    \n",
    "    sentences = re.split(r'(?<=[.!?]) +', sample_text.strip())\n",
    "    for sentence in sentences:\n",
    "        if re.search(rf\"\\b{re.escape(search_word)}\\b\", sentence, flags=re.IGNORECASE):\n",
    "            \n",
    "            highlighted = re.sub(rf\"(\\b{re.escape(search_word)}\\b)\", r\"**\\1**\", sentence, flags=re.IGNORECASE)\n",
    "            print(f\"- {highlighted}\")\n",
    "else:\n",
    "    print(f\"\\n❌ The word '{search_word}' was not found in the text.\")"
   ]
  },
  {
   "cell_type": "code",
   "execution_count": 10,
   "id": "0e850636",
   "metadata": {},
   "outputs": [
    {
     "name": "stdout",
     "output_type": "stream",
     "text": [
      "\n",
      "✅ Dates found in the text:\n",
      "- 2024-12-31\n"
     ]
    }
   ],
   "source": [
    "## 10 th question. Date Extractor: Write a program that extracts dates from a given text. \n",
    "# Ask the user to input a text, and then identify and print all the dates present in the text.\n",
    "import re\n",
    "\n",
    "\n",
    "text = input(\"Enter text containing dates: \")\n",
    "\n",
    "date_patterns = [\n",
    "    r\"\\b\\d{4}-\\d{2}-\\d{2}\\b\",                            # YYYY-MM-DD\n",
    "    r\"\\b\\d{2}/\\d{2}/\\d{4}\\b\",                            # DD/MM/YYYY\n",
    "    r\"\\b(?:Jan|Feb|Mar|Apr|May|Jun|Jul|Aug|Sep|Oct|Nov|Dec)[a-z]* \\d{1,2}, \\d{4}\\b\",  # Month DD, YYYY\n",
    "    r\"\\b\\d{1,2} (?:Jan|Feb|Mar|Apr|May|Jun|Jul|Aug|Sep|Oct|Nov|Dec)[a-z]* \\d{4}\\b\"     # DD Month YYYY\n",
    "]\n",
    "\n",
    "\n",
    "combined_pattern = \"|\".join(date_patterns)\n",
    "\n",
    "\n",
    "matches = re.findall(combined_pattern, text, flags=re.IGNORECASE)\n",
    "\n",
    "\n",
    "if matches:\n",
    "    print(\"\\n✅ Dates found in the text:\")\n",
    "    for date in matches:\n",
    "        print(f\"- {date}\")\n",
    "else:\n",
    "    print(\"\\n❌ No dates found in the text.\")"
   ]
  }
 ],
 "metadata": {
  "kernelspec": {
   "display_name": "Python 3",
   "language": "python",
   "name": "python3"
  },
  "language_info": {
   "codemirror_mode": {
    "name": "ipython",
    "version": 3
   },
   "file_extension": ".py",
   "mimetype": "text/x-python",
   "name": "python",
   "nbconvert_exporter": "python",
   "pygments_lexer": "ipython3",
   "version": "3.13.3"
  }
 },
 "nbformat": 4,
 "nbformat_minor": 5
}
