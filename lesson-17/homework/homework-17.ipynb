{
 "cells": [
  {
   "cell_type": "code",
   "execution_count": null,
   "id": "f45ac06c",
   "metadata": {},
   "outputs": [
    {
     "data": {
      "text/html": [
       "<div>\n",
       "<style scoped>\n",
       "    .dataframe tbody tr th:only-of-type {\n",
       "        vertical-align: middle;\n",
       "    }\n",
       "\n",
       "    .dataframe tbody tr th {\n",
       "        vertical-align: top;\n",
       "    }\n",
       "\n",
       "    .dataframe thead th {\n",
       "        text-align: right;\n",
       "    }\n",
       "</style>\n",
       "<table border=\"1\" class=\"dataframe\">\n",
       "  <thead>\n",
       "    <tr style=\"text-align: right;\">\n",
       "      <th></th>\n",
       "      <th>First Name</th>\n",
       "      <th>Age</th>\n",
       "      <th>City</th>\n",
       "    </tr>\n",
       "  </thead>\n",
       "  <tbody>\n",
       "    <tr>\n",
       "      <th>0</th>\n",
       "      <td>Alice</td>\n",
       "      <td>25</td>\n",
       "      <td>New York</td>\n",
       "    </tr>\n",
       "    <tr>\n",
       "      <th>1</th>\n",
       "      <td>Bob</td>\n",
       "      <td>30</td>\n",
       "      <td>San Francisco</td>\n",
       "    </tr>\n",
       "    <tr>\n",
       "      <th>2</th>\n",
       "      <td>Charlie</td>\n",
       "      <td>35</td>\n",
       "      <td>Los Angeles</td>\n",
       "    </tr>\n",
       "    <tr>\n",
       "      <th>3</th>\n",
       "      <td>David</td>\n",
       "      <td>40</td>\n",
       "      <td>Chicago</td>\n",
       "    </tr>\n",
       "  </tbody>\n",
       "</table>\n",
       "</div>"
      ],
      "text/plain": [
       "  First Name  Age           City\n",
       "0      Alice   25       New York\n",
       "1        Bob   30  San Francisco\n",
       "2    Charlie   35    Los Angeles\n",
       "3      David   40        Chicago"
      ]
     },
     "execution_count": 4,
     "metadata": {},
     "output_type": "execute_result"
    }
   ],
   "source": [
    "# 1 st question\n",
    "# Rename column names using function. \"First Name\" --> \"first_name\", \"Age\" --> \"age\n",
    "import pandas as pd\n",
    "\n",
    "data = {'First Name': ['Alice', 'Bob', 'Charlie', 'David'], 'Age': [25, 30, 35, 40], 'City': ['New York', 'San Francisco', 'Los Angeles', 'Chicago']}\n",
    "df = pd.DataFrame(data)\n",
    "df"
   ]
  },
  {
   "cell_type": "code",
   "execution_count": 9,
   "id": "3b768def",
   "metadata": {},
   "outputs": [
    {
     "data": {
      "text/plain": [
       "Index(['First Name', 'Age', 'City'], dtype='object')"
      ]
     },
     "execution_count": 9,
     "metadata": {},
     "output_type": "execute_result"
    }
   ],
   "source": [
    "df.columns"
   ]
  },
  {
   "cell_type": "code",
   "execution_count": 11,
   "id": "dfd6c78c",
   "metadata": {},
   "outputs": [
    {
     "data": {
      "text/html": [
       "<div>\n",
       "<style scoped>\n",
       "    .dataframe tbody tr th:only-of-type {\n",
       "        vertical-align: middle;\n",
       "    }\n",
       "\n",
       "    .dataframe tbody tr th {\n",
       "        vertical-align: top;\n",
       "    }\n",
       "\n",
       "    .dataframe thead th {\n",
       "        text-align: right;\n",
       "    }\n",
       "</style>\n",
       "<table border=\"1\" class=\"dataframe\">\n",
       "  <thead>\n",
       "    <tr style=\"text-align: right;\">\n",
       "      <th></th>\n",
       "      <th>First Name</th>\n",
       "      <th>Age</th>\n",
       "      <th>City</th>\n",
       "    </tr>\n",
       "  </thead>\n",
       "  <tbody>\n",
       "    <tr>\n",
       "      <th>0</th>\n",
       "      <td>Alice</td>\n",
       "      <td>25</td>\n",
       "      <td>New York</td>\n",
       "    </tr>\n",
       "    <tr>\n",
       "      <th>1</th>\n",
       "      <td>Bob</td>\n",
       "      <td>30</td>\n",
       "      <td>San Francisco</td>\n",
       "    </tr>\n",
       "    <tr>\n",
       "      <th>2</th>\n",
       "      <td>Charlie</td>\n",
       "      <td>35</td>\n",
       "      <td>Los Angeles</td>\n",
       "    </tr>\n",
       "    <tr>\n",
       "      <th>3</th>\n",
       "      <td>David</td>\n",
       "      <td>40</td>\n",
       "      <td>Chicago</td>\n",
       "    </tr>\n",
       "  </tbody>\n",
       "</table>\n",
       "</div>"
      ],
      "text/plain": [
       "  First Name  Age           City\n",
       "0      Alice   25       New York\n",
       "1        Bob   30  San Francisco\n",
       "2    Charlie   35    Los Angeles\n",
       "3      David   40        Chicago"
      ]
     },
     "execution_count": 11,
     "metadata": {},
     "output_type": "execute_result"
    }
   ],
   "source": [
    "our_columns=df[[\"First Name\",\"Age\",\"City\"]]\n",
    "our_columns"
   ]
  },
  {
   "cell_type": "code",
   "execution_count": 12,
   "id": "bdb55180",
   "metadata": {},
   "outputs": [
    {
     "data": {
      "text/plain": [
       "{'First Name': 'first_name', 'Age': 'age'}"
      ]
     },
     "execution_count": 12,
     "metadata": {},
     "output_type": "execute_result"
    }
   ],
   "source": [
    "new_col={\"First Name\":\"first_name\",\n",
    "         \"Age\":\"age\"}\n",
    "new_col"
   ]
  },
  {
   "cell_type": "code",
   "execution_count": 13,
   "id": "4aef5d9d",
   "metadata": {},
   "outputs": [
    {
     "data": {
      "text/html": [
       "<div>\n",
       "<style scoped>\n",
       "    .dataframe tbody tr th:only-of-type {\n",
       "        vertical-align: middle;\n",
       "    }\n",
       "\n",
       "    .dataframe tbody tr th {\n",
       "        vertical-align: top;\n",
       "    }\n",
       "\n",
       "    .dataframe thead th {\n",
       "        text-align: right;\n",
       "    }\n",
       "</style>\n",
       "<table border=\"1\" class=\"dataframe\">\n",
       "  <thead>\n",
       "    <tr style=\"text-align: right;\">\n",
       "      <th></th>\n",
       "      <th>first_name</th>\n",
       "      <th>age</th>\n",
       "      <th>City</th>\n",
       "    </tr>\n",
       "  </thead>\n",
       "  <tbody>\n",
       "    <tr>\n",
       "      <th>0</th>\n",
       "      <td>Alice</td>\n",
       "      <td>25</td>\n",
       "      <td>New York</td>\n",
       "    </tr>\n",
       "    <tr>\n",
       "      <th>1</th>\n",
       "      <td>Bob</td>\n",
       "      <td>30</td>\n",
       "      <td>San Francisco</td>\n",
       "    </tr>\n",
       "    <tr>\n",
       "      <th>2</th>\n",
       "      <td>Charlie</td>\n",
       "      <td>35</td>\n",
       "      <td>Los Angeles</td>\n",
       "    </tr>\n",
       "    <tr>\n",
       "      <th>3</th>\n",
       "      <td>David</td>\n",
       "      <td>40</td>\n",
       "      <td>Chicago</td>\n",
       "    </tr>\n",
       "  </tbody>\n",
       "</table>\n",
       "</div>"
      ],
      "text/plain": [
       "  first_name  age           City\n",
       "0      Alice   25       New York\n",
       "1        Bob   30  San Francisco\n",
       "2    Charlie   35    Los Angeles\n",
       "3      David   40        Chicago"
      ]
     },
     "execution_count": 13,
     "metadata": {},
     "output_type": "execute_result"
    }
   ],
   "source": [
    "renames_columns=our_columns.rename(columns=new_col)\n",
    "renames_columns"
   ]
  },
  {
   "cell_type": "code",
   "execution_count": 17,
   "id": "254aff99",
   "metadata": {},
   "outputs": [
    {
     "data": {
      "text/html": [
       "<div>\n",
       "<style scoped>\n",
       "    .dataframe tbody tr th:only-of-type {\n",
       "        vertical-align: middle;\n",
       "    }\n",
       "\n",
       "    .dataframe tbody tr th {\n",
       "        vertical-align: top;\n",
       "    }\n",
       "\n",
       "    .dataframe thead th {\n",
       "        text-align: right;\n",
       "    }\n",
       "</style>\n",
       "<table border=\"1\" class=\"dataframe\">\n",
       "  <thead>\n",
       "    <tr style=\"text-align: right;\">\n",
       "      <th></th>\n",
       "      <th>First Name</th>\n",
       "      <th>Age</th>\n",
       "      <th>City</th>\n",
       "    </tr>\n",
       "  </thead>\n",
       "  <tbody>\n",
       "    <tr>\n",
       "      <th>0</th>\n",
       "      <td>Alice</td>\n",
       "      <td>25</td>\n",
       "      <td>New York</td>\n",
       "    </tr>\n",
       "    <tr>\n",
       "      <th>1</th>\n",
       "      <td>Bob</td>\n",
       "      <td>30</td>\n",
       "      <td>San Francisco</td>\n",
       "    </tr>\n",
       "    <tr>\n",
       "      <th>2</th>\n",
       "      <td>Charlie</td>\n",
       "      <td>35</td>\n",
       "      <td>Los Angeles</td>\n",
       "    </tr>\n",
       "  </tbody>\n",
       "</table>\n",
       "</div>"
      ],
      "text/plain": [
       "  First Name  Age           City\n",
       "0      Alice   25       New York\n",
       "1        Bob   30  San Francisco\n",
       "2    Charlie   35    Los Angeles"
      ]
     },
     "execution_count": 17,
     "metadata": {},
     "output_type": "execute_result"
    }
   ],
   "source": [
    "# 2 nd question\n",
    "# Print the first 3 rows of the DataFrame\n",
    "df.iloc[0:3]"
   ]
  },
  {
   "cell_type": "code",
   "execution_count": 32,
   "id": "a0c50ffc",
   "metadata": {},
   "outputs": [
    {
     "data": {
      "text/plain": [
       "np.float64(32.5)"
      ]
     },
     "execution_count": 32,
     "metadata": {},
     "output_type": "execute_result"
    }
   ],
   "source": [
    "# 3 rd question\n",
    "# Find the mean age of the individuals\n",
    "mean_age = renames_columns['age'].mean()\n",
    "mean_age"
   ]
  },
  {
   "cell_type": "code",
   "execution_count": 38,
   "id": "64744e05",
   "metadata": {},
   "outputs": [
    {
     "name": "stdout",
     "output_type": "stream",
     "text": [
      "  first_name           City\n",
      "0      Alice       New York\n",
      "1        Bob  San Francisco\n",
      "2    Charlie    Los Angeles\n",
      "3      David        Chicago\n"
     ]
    }
   ],
   "source": [
    "# 4 th question\n",
    "# Select and print only the 'Name' and 'City' columns\n",
    "print(renames_columns[['first_name', 'City']])"
   ]
  },
  {
   "cell_type": "code",
   "execution_count": 42,
   "id": "b0138b2f",
   "metadata": {},
   "outputs": [
    {
     "data": {
      "text/html": [
       "<div>\n",
       "<style scoped>\n",
       "    .dataframe tbody tr th:only-of-type {\n",
       "        vertical-align: middle;\n",
       "    }\n",
       "\n",
       "    .dataframe tbody tr th {\n",
       "        vertical-align: top;\n",
       "    }\n",
       "\n",
       "    .dataframe thead th {\n",
       "        text-align: right;\n",
       "    }\n",
       "</style>\n",
       "<table border=\"1\" class=\"dataframe\">\n",
       "  <thead>\n",
       "    <tr style=\"text-align: right;\">\n",
       "      <th></th>\n",
       "      <th>first_name</th>\n",
       "      <th>age</th>\n",
       "      <th>City</th>\n",
       "      <th>Salary</th>\n",
       "    </tr>\n",
       "  </thead>\n",
       "  <tbody>\n",
       "    <tr>\n",
       "      <th>0</th>\n",
       "      <td>Alice</td>\n",
       "      <td>25</td>\n",
       "      <td>New York</td>\n",
       "      <td>97455</td>\n",
       "    </tr>\n",
       "    <tr>\n",
       "      <th>1</th>\n",
       "      <td>Bob</td>\n",
       "      <td>30</td>\n",
       "      <td>San Francisco</td>\n",
       "      <td>99112</td>\n",
       "    </tr>\n",
       "    <tr>\n",
       "      <th>2</th>\n",
       "      <td>Charlie</td>\n",
       "      <td>35</td>\n",
       "      <td>Los Angeles</td>\n",
       "      <td>74465</td>\n",
       "    </tr>\n",
       "    <tr>\n",
       "      <th>3</th>\n",
       "      <td>David</td>\n",
       "      <td>40</td>\n",
       "      <td>Chicago</td>\n",
       "      <td>86029</td>\n",
       "    </tr>\n",
       "  </tbody>\n",
       "</table>\n",
       "</div>"
      ],
      "text/plain": [
       "  first_name  age           City  Salary\n",
       "0      Alice   25       New York   97455\n",
       "1        Bob   30  San Francisco   99112\n",
       "2    Charlie   35    Los Angeles   74465\n",
       "3      David   40        Chicago   86029"
      ]
     },
     "execution_count": 42,
     "metadata": {},
     "output_type": "execute_result"
    }
   ],
   "source": [
    "# 5 th question\n",
    "# Add a new column 'Salary' with random salary values\n",
    "import numpy as np\n",
    "renames_columns['Salary'] = np.random.randint(50000, 100001, size=len(renames_columns))\n",
    "renames_columns"
   ]
  },
  {
   "cell_type": "code",
   "execution_count": 45,
   "id": "f8ab7efb",
   "metadata": {},
   "outputs": [
    {
     "name": "stdout",
     "output_type": "stream",
     "text": [
      "       first_name        age      City        Salary\n",
      "count           4   4.000000         4      4.000000\n",
      "unique          4        NaN         4           NaN\n",
      "top         Alice        NaN  New York           NaN\n",
      "freq            1        NaN         1           NaN\n",
      "mean          NaN  32.500000       NaN  89265.250000\n",
      "std           NaN   6.454972       NaN  11453.546827\n",
      "min           NaN  25.000000       NaN  74465.000000\n",
      "25%           NaN  28.750000       NaN  83138.000000\n",
      "50%           NaN  32.500000       NaN  91742.000000\n",
      "75%           NaN  36.250000       NaN  97869.250000\n",
      "max           NaN  40.000000       NaN  99112.000000\n"
     ]
    }
   ],
   "source": [
    "# 6 th question\n",
    "# Display summary statistics of the DataFrame\n",
    "print(renames_columns.describe(include='all'))"
   ]
  },
  {
   "cell_type": "code",
   "execution_count": 56,
   "id": "96afe7be",
   "metadata": {},
   "outputs": [
    {
     "name": "stdout",
     "output_type": "stream",
     "text": [
      "  Month_Name  Total_Sales  Total_Expenses\n",
      "0        Jan         5000            3000\n",
      "1        Feb         6000            3500\n",
      "2        Mar         7500            4000\n",
      "3        Apr         8000            4500\n"
     ]
    }
   ],
   "source": [
    "## 2 nd Homework\n",
    "import pandas as pd\n",
    "\n",
    "data = {\n",
    "    'Month': ['Jan', 'Feb', 'Mar', 'Apr'],\n",
    "    'Sales': [5000, 6000, 7500, 8000],\n",
    "    'Expenses': [3000, 3500, 4000, 4500]\n",
    "}\n",
    "\n",
    "sales_and_expenses = pd.DataFrame(data)\n",
    "\n",
    "def Our_frame(df):\n",
    "    return df.rename(columns={\n",
    "        'Month': 'Month_Name',\n",
    "        'Sales': 'Total_Sales',\n",
    "        'Expenses': 'Total_Expenses'\n",
    "    })\n",
    "\n",
    "\n",
    "sales_and_expenses = Our_frame(sales_and_expenses)\n",
    "\n",
    "print(sales_and_expenses)\n"
   ]
  },
  {
   "cell_type": "code",
   "execution_count": 69,
   "id": "5daef01e",
   "metadata": {},
   "outputs": [
    {
     "name": "stdout",
     "output_type": "stream",
     "text": [
      "Max Sales is equal to: 8000\n",
      "Max Expenses are equal to: 4500\n"
     ]
    }
   ],
   "source": [
    "## 2 nd question\n",
    "# Calculate and display the maximum sales and expenses.\n",
    "max_sales = Our_frame['Sales'].max()\n",
    "max_expenses = Our_frame['Expenses'].max()\n",
    "print('Max Sales is equal to:', max_sales)\n",
    "print('Max Expenses are equal to:', max_expenses)\n"
   ]
  },
  {
   "cell_type": "code",
   "execution_count": 70,
   "id": "4440ef74",
   "metadata": {},
   "outputs": [
    {
     "name": "stdout",
     "output_type": "stream",
     "text": [
      "Minimum sales is: 5000\n",
      "Minimum expenses is: 3000\n"
     ]
    }
   ],
   "source": [
    "# 3 rd question\n",
    "# Calculate and display the minimum sales and expenses.\n",
    "min_sale=Our_frame['Sales'].min()\n",
    "min_expenses=Our_frame['Expenses'].min()\n",
    "print(\"Minimum sales is:\", min_sale)\n",
    "print(\"Minimum expenses is:\", min_expenses)"
   ]
  },
  {
   "cell_type": "code",
   "execution_count": 72,
   "id": "0252222f",
   "metadata": {},
   "outputs": [
    {
     "name": "stdout",
     "output_type": "stream",
     "text": [
      "Average sale is: 6625.0\n",
      "Average Expenses are: 3750.0\n"
     ]
    }
   ],
   "source": [
    "# 4 th question\n",
    "# alculate and display the average sales and expenses.\n",
    "Average_sales=Our_frame['Sales'].mean()\n",
    "Average_Expenses=Our_frame['Expenses'].mean()\n",
    "print(\"Average sale is:\", Average_sales)\n",
    "print(\"Average Expenses are:\", Average_Expenses)"
   ]
  },
  {
   "cell_type": "code",
   "execution_count": 73,
   "id": "3fa2ad50",
   "metadata": {},
   "outputs": [
    {
     "name": "stdout",
     "output_type": "stream",
     "text": [
      "        Category  January  February  March  April\n",
      "0           Rent     1200      1300   1400   1500\n",
      "1      Utilities      200       220    240    250\n",
      "2      Groceries      300       320    330    350\n",
      "3  Entertainment      150       160    170    180\n"
     ]
    }
   ],
   "source": [
    "# Homework 3\n",
    "# Create a DataFrame named expenses with columns 'Category', 'January', 'February',\n",
    "#  'March', and 'April', representing monthly expenses for different categories. Use below table.\n",
    "import pandas as pd\n",
    "\n",
    "data = {\n",
    "    'Category': ['Rent', 'Utilities', 'Groceries', 'Entertainment'],\n",
    "    'January': [1200, 200, 300, 150],\n",
    "    'February': [1300, 220, 320, 160],\n",
    "    'March': [1400, 240, 330, 170],\n",
    "    'April': [1500, 250, 350, 180]\n",
    "}\n",
    "\n",
    "expenses = pd.DataFrame(data)\n",
    "\n",
    "print(expenses)"
   ]
  },
  {
   "cell_type": "code",
   "execution_count": 79,
   "id": "6ba3b188",
   "metadata": {},
   "outputs": [
    {
     "name": "stdout",
     "output_type": "stream",
     "text": [
      "        Category  Max_Expense\n",
      "0           Rent         1500\n",
      "1      Utilities          250\n",
      "2      Groceries          350\n",
      "3  Entertainment          180\n"
     ]
    }
   ],
   "source": [
    "# 2 nd question\n",
    "# Calculate and display the maximum expense for each category.\n",
    "expenses['Max_Expense'] = expenses[['January', 'February', 'March', 'April']].max(axis=1)\n",
    "\n",
    "\n",
    "print(expenses[['Category', 'Max_Expense']])"
   ]
  },
  {
   "cell_type": "code",
   "execution_count": 81,
   "id": "80e6d898",
   "metadata": {},
   "outputs": [
    {
     "name": "stdout",
     "output_type": "stream",
     "text": [
      "        Category  Min_Expenses\n",
      "0           Rent          1200\n",
      "1      Utilities           200\n",
      "2      Groceries           300\n",
      "3  Entertainment           150\n"
     ]
    }
   ],
   "source": [
    "# 3 rd question\n",
    "# Calculate and display the minimum expense for each category.\n",
    "expenses[\"Min_Expenses\"]=expenses[['January', 'February', 'March', 'April']].min(axis=1)\n",
    "print(expenses[[\"Category\",\"Min_Expenses\"]])"
   ]
  },
  {
   "cell_type": "code",
   "execution_count": 86,
   "id": "2cb91f2e",
   "metadata": {},
   "outputs": [
    {
     "data": {
      "text/html": [
       "<div>\n",
       "<style scoped>\n",
       "    .dataframe tbody tr th:only-of-type {\n",
       "        vertical-align: middle;\n",
       "    }\n",
       "\n",
       "    .dataframe tbody tr th {\n",
       "        vertical-align: top;\n",
       "    }\n",
       "\n",
       "    .dataframe thead th {\n",
       "        text-align: right;\n",
       "    }\n",
       "</style>\n",
       "<table border=\"1\" class=\"dataframe\">\n",
       "  <thead>\n",
       "    <tr style=\"text-align: right;\">\n",
       "      <th></th>\n",
       "      <th>Category</th>\n",
       "      <th>average_Expenses</th>\n",
       "    </tr>\n",
       "  </thead>\n",
       "  <tbody>\n",
       "    <tr>\n",
       "      <th>0</th>\n",
       "      <td>Rent</td>\n",
       "      <td>1350.0</td>\n",
       "    </tr>\n",
       "    <tr>\n",
       "      <th>1</th>\n",
       "      <td>Utilities</td>\n",
       "      <td>227.5</td>\n",
       "    </tr>\n",
       "    <tr>\n",
       "      <th>2</th>\n",
       "      <td>Groceries</td>\n",
       "      <td>325.0</td>\n",
       "    </tr>\n",
       "    <tr>\n",
       "      <th>3</th>\n",
       "      <td>Entertainment</td>\n",
       "      <td>165.0</td>\n",
       "    </tr>\n",
       "  </tbody>\n",
       "</table>\n",
       "</div>"
      ],
      "text/plain": [
       "        Category  average_Expenses\n",
       "0           Rent            1350.0\n",
       "1      Utilities             227.5\n",
       "2      Groceries             325.0\n",
       "3  Entertainment             165.0"
      ]
     },
     "execution_count": 86,
     "metadata": {},
     "output_type": "execute_result"
    }
   ],
   "source": [
    "# 4 th question\n",
    "# Calculate and display the average expense for each category.\n",
    "expenses[\"average_Expenses\"]=expenses[['January', 'February', 'March', 'April']].mean(axis=1)\n",
    "expenses[[\"Category\",\"average_Expenses\"]]"
   ]
  },
  {
   "cell_type": "code",
   "execution_count": 87,
   "id": "768561e3",
   "metadata": {},
   "outputs": [
    {
     "name": "stdout",
     "output_type": "stream",
     "text": [
      "Category\n",
      "Rent             1500.0\n",
      "Utilities         250.0\n",
      "Groceries         350.0\n",
      "Entertainment     180.0\n",
      "dtype: float64\n"
     ]
    }
   ],
   "source": [
    "# In this task, use .set_index method to make Category column as index.\n",
    "\n",
    "# Try this code, learn it and use it in the task.\n",
    "\n",
    "# expenses.set_index('Category')\n",
    "\n",
    "expenses_indexed = expenses.set_index('Category')\n",
    "\n",
    "\n",
    "print(expenses_indexed.max(axis=1))"
   ]
  }
 ],
 "metadata": {
  "kernelspec": {
   "display_name": "Python 3",
   "language": "python",
   "name": "python3"
  },
  "language_info": {
   "codemirror_mode": {
    "name": "ipython",
    "version": 3
   },
   "file_extension": ".py",
   "mimetype": "text/x-python",
   "name": "python",
   "nbconvert_exporter": "python",
   "pygments_lexer": "ipython3",
   "version": "3.13.3"
  }
 },
 "nbformat": 4,
 "nbformat_minor": 5
}
