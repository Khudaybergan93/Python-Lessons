{
 "cells": [
  {
   "cell_type": "code",
   "execution_count": 7,
   "id": "c0b94054",
   "metadata": {},
   "outputs": [
    {
     "name": "stdout",
     "output_type": "stream",
     "text": [
      "28.0\n",
      "49.0\n"
     ]
    }
   ],
   "source": [
    "square_side=float(input())\n",
    "## Perimetre of the square are addition of its all the same four sizes and means 4*square_side\n",
    "perimetre_of_square=print(square_side*4)\n",
    "## Area of the square is equal to multiplication of one square side to another side\n",
    "area_of_square=print(square_side*square_side)"
   ]
  },
  {
   "cell_type": "code",
   "execution_count": null,
   "id": "76c50e62",
   "metadata": {},
   "outputs": [
    {
     "name": "stdout",
     "output_type": "stream",
     "text": [
      "The length of circle is 31.42\n"
     ]
    }
   ],
   "source": [
    "## we have been given diametre of the circle and we must find its length\n",
    "import math\n",
    "diametre_of_circle=float(input())\n",
    "π=float(input())\n",
    "## the length of the circle is equal to multiplication of its diametre and π (pi(π)=3.1456....) value\n",
    "length_of_circle=math.pi*diametre_of_circle\n",
    "print(f\"The length of circle is {length_of_circle:.2f}\")\n"
   ]
  },
  {
   "cell_type": "code",
   "execution_count": null,
   "id": "4e84f9a7",
   "metadata": {},
   "outputs": [
    {
     "name": "stdout",
     "output_type": "stream",
     "text": [
      "The Mean of these numbers is 3.00\n"
     ]
    }
   ],
   "source": [
    "## Given two numbers a and b. Find their mean.\n",
    "a=float(input())\n",
    "b=float(input())\n",
    "mean_of_numbers=(a+b)/2\n",
    "print(f\"The Mean of these numbers is {mean_of_numbers:.2f}\")"
   ]
  },
  {
   "cell_type": "code",
   "execution_count": 15,
   "id": "5e1cb19f",
   "metadata": {},
   "outputs": [
    {
     "name": "stdout",
     "output_type": "stream",
     "text": [
      "The sum of numbers is 7.00\n",
      "The product of the numbers is 12.00\n",
      "Square of number a is equal to 9.00\n",
      "Square of number b is equal to 16.00\n"
     ]
    }
   ],
   "source": [
    "### Given two numbers a and b. Find their sum, product and square of each number.\n",
    "a=float(input())\n",
    "b=float(input())\n",
    "sum_of_numbers=a+b\n",
    "print(f\"The sum of numbers is {sum_of_numbers:.2f}\")\n",
    "product_of_numbers=a*b\n",
    "print(f\"The product of the numbers is {product_of_numbers:.2f}\")\n",
    "square_of_a=a**2\n",
    "square_of_b=b**2\n",
    "print(f\"Square of number a is equal to {square_of_a:.2f}\")\n",
    "print(f\"Square of number b is equal to {square_of_b:.2f}\")"
   ]
  }
 ],
 "metadata": {
  "kernelspec": {
   "display_name": "Python 3",
   "language": "python",
   "name": "python3"
  },
  "language_info": {
   "codemirror_mode": {
    "name": "ipython",
    "version": 3
   },
   "file_extension": ".py",
   "mimetype": "text/x-python",
   "name": "python",
   "nbconvert_exporter": "python",
   "pygments_lexer": "ipython3",
   "version": "3.13.3"
  }
 },
 "nbformat": 4,
 "nbformat_minor": 5
}
