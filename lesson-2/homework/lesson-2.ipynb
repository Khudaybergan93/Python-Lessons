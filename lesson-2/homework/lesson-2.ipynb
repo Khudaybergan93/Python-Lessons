{
 "cells": [
  {
   "cell_type": "code",
   "execution_count": null,
   "id": "a05ae788",
   "metadata": {},
   "outputs": [
    {
     "name": "stdout",
     "output_type": "stream",
     "text": [
      "My name is John and I am 26 years old\n"
     ]
    }
   ],
   "source": [
    "## 1 st question\n",
    "### Write a Python program to ask for a user's name and year of birth, \n",
    "### then calculate and display their age.\n",
    "name=input()\n",
    "current_year=int(input())\n",
    "year_of_birth=int(input())\n",
    "calculation_of_age_and_name=print(f\"My name is {name} and I am {current_year-year_of_birth} years old\")"
   ]
  },
  {
   "cell_type": "code",
   "execution_count": null,
   "id": "3fead3f8",
   "metadata": {},
   "outputs": [
    {
     "name": "stdout",
     "output_type": "stream",
     "text": [
      "'Malibu' can be formed from the text.\n",
      "'Lasetti' can be formed from the text.\n"
     ]
    }
   ],
   "source": [
    "## 2 nd question\n",
    "# Extract car names from the following text:\n",
    "\n",
    "# txt = 'LMaasleitbtui'\n",
    "\n",
    "from collections import Counter\n",
    "\n",
    "txt = 'LMaasleitbtui'.lower()\n",
    "txt_counter = Counter(txt)\n",
    "\n",
    "car_names = ['malibu', 'lasetti']\n",
    "\n",
    "def can_form(word, available_letters):\n",
    "    word_count = Counter(word)\n",
    "    return all(available_letters[char] >= word_count[char] for char in word_count)\n",
    "\n",
    "for car in car_names:\n",
    "    if can_form(car, txt_counter):\n",
    "        print(f\"'{car.title()}' can be formed from the text.\")\n",
    "    else:\n",
    "        print(f\"'{car.title()}' cannot be formed from the text.\")"
   ]
  },
  {
   "cell_type": "code",
   "execution_count": 6,
   "id": "8d90972f",
   "metadata": {},
   "outputs": [
    {
     "name": "stdout",
     "output_type": "stream",
     "text": [
      "damas first car\n",
      "matiz second car\n"
     ]
    }
   ],
   "source": [
    "## 3 rd question\n",
    "# Extract car names from the following text:\n",
    "\n",
    "# txt = 'MsaatmiazD'\n",
    "\n",
    "from collections import Counter\n",
    "\n",
    "txt = 'MsaatmiazD'.lower()\n",
    "txt_list = list(txt)\n",
    "\n",
    "def can_form(word, available_letters):\n",
    "    word_count = Counter(word)\n",
    "    available_count = Counter(available_letters)\n",
    "    return all(available_count[c] >= word_count[c] for c in word_count)\n",
    "\n",
    "def extract_word(word, txt_chars):\n",
    "    for c in word:\n",
    "        txt_chars.remove(c)\n",
    "    return word\n",
    "\n",
    "first_car = 'damas'\n",
    "second_car = 'matiz'\n",
    "\n",
    "result = []\n",
    "\n",
    "\n",
    "if can_form(first_car, txt_list):\n",
    "    extract_word(first_car, txt_list)\n",
    "    result.append(f\"{first_car} first car\")\n",
    "\n",
    "\n",
    "if can_form(second_car, txt_list):\n",
    "    extract_word(second_car, txt_list)\n",
    "    result.append(f\"{second_car} second car\")\n",
    "\n",
    "\n",
    "for line in result:\n",
    "    print(line)"
   ]
  },
  {
   "cell_type": "code",
   "execution_count": 7,
   "id": "f41a056a",
   "metadata": {},
   "outputs": [
    {
     "name": "stdout",
     "output_type": "stream",
     "text": [
      "Residence area: London\n"
     ]
    }
   ],
   "source": [
    "## 4 th question\n",
    "# Extract the residence area from the following text:\n",
    "\n",
    "# txt = \"I'am John. I am from London\"\n",
    "import re\n",
    "\n",
    "txt = \"I'am John. I am from London\"\n",
    "\n",
    "match = re.search(r'\\bI am from (\\w+)', txt)\n",
    "if match:\n",
    "    print(f\"Residence area: {match.group(1)}\")\n",
    "else:\n",
    "    print(\"Residence area not found.\")"
   ]
  },
  {
   "cell_type": "code",
   "execution_count": 33,
   "id": "55df58c0",
   "metadata": {},
   "outputs": [
    {
     "data": {
      "text/plain": [
       "['Friday', 'is', 'Today', 'John', 'Hello']"
      ]
     },
     "execution_count": 33,
     "metadata": {},
     "output_type": "execute_result"
    }
   ],
   "source": [
    "## 5 th question\n",
    "# Write a Python program that takes a user input string and prints it in reverse order.\n",
    "Something_said=[\"Hello\", \"John\",\"Today\",\"is\",\"Friday\"]\n",
    "Something_said.reverse()\n",
    "Something_said\n"
   ]
  },
  {
   "cell_type": "code",
   "execution_count": 56,
   "id": "fecee8b0",
   "metadata": {},
   "outputs": [
    {
     "name": "stdout",
     "output_type": "stream",
     "text": [
      "Number of vowels: 3\n"
     ]
    }
   ],
   "source": [
    "## 6 th question\n",
    "## Write a Python program that counts the number of vowels in a given string.\n",
    "def count_vowels(text):\n",
    "    vowels = 'aeiouAEIOU'\n",
    "    count = 0\n",
    "    for v in vowels:\n",
    "        count += text.count(v)\n",
    "    return count\n",
    "\n",
    "user_input = input(\"Enter a string: \")\n",
    "vowel_count = count_vowels(user_input)\n",
    "print(f\"Number of vowels: {vowel_count}\")\n"
   ]
  },
  {
   "cell_type": "code",
   "execution_count": 59,
   "id": "5c1de9fe",
   "metadata": {},
   "outputs": [
    {
     "name": "stdout",
     "output_type": "stream",
     "text": [
      "The maximum value is: 56\n"
     ]
    }
   ],
   "source": [
    "## 7 th question\n",
    "## Write a Python program that takes a list of numbers as input and prints the maximum value.\n",
    "input_str = input(\"Enter a list of numbers separated by spaces: \")\n",
    "\n",
    "numbers = list(map(int, input_str.split()))\n",
    "\n",
    "if numbers:\n",
    "    max_value = max(numbers)\n",
    "    print(f\"The maximum value is: {max_value}\")\n",
    "else:\n",
    "    print(\"The list is empty.\")\n"
   ]
  },
  {
   "cell_type": "code",
   "execution_count": 61,
   "id": "b8b79b70",
   "metadata": {},
   "outputs": [
    {
     "name": "stdout",
     "output_type": "stream",
     "text": [
      "'madam' is a palindrome.\n"
     ]
    }
   ],
   "source": [
    "## 8 th question\n",
    "## Write a Python program that checks if a given word is a palindrome (reads the same forward and backward).\n",
    "def is_palindrome(word):\n",
    "    \n",
    "    word = word.replace(\" \", \"\").lower()\n",
    "    return word == word[::-1]\n",
    "\n",
    "user_input = input(\"Enter a word: \")\n",
    "\n",
    "if is_palindrome(user_input):\n",
    "    print(f\"'{user_input}' is a palindrome.\")\n",
    "else:\n",
    "    print(f\"'{user_input}' is not a palindrome.\")"
   ]
  },
  {
   "cell_type": "code",
   "execution_count": null,
   "id": "b57bfee0",
   "metadata": {},
   "outputs": [
    {
     "name": "stdout",
     "output_type": "stream",
     "text": [
      "The domain is: gmail.com\n"
     ]
    }
   ],
   "source": [
    "### 9 th question\n",
    "### Write a Python program that extracts and prints the domain from an email address provided by the user.\n",
    "def extract_domain(email):\n",
    "\n",
    "    parts = email.split('@')\n",
    "    if len(parts) == 2:\n",
    "        return parts[1]\n",
    "    else:\n",
    "        return None\n",
    "\n",
    "\n",
    "email_input = input(\"Enter an email address: \")\n",
    "\n",
    "domain = extract_domain(email_input)\n",
    "\n",
    "if domain:\n",
    "    print(f\"The domain is: {domain}\")\n",
    "else:\n",
    "    print(\"Invalid email address.\")"
   ]
  },
  {
   "cell_type": "code",
   "execution_count": 68,
   "id": "a70e485a",
   "metadata": {},
   "outputs": [
    {
     "ename": "ValueError",
     "evalue": "invalid literal for int() with base 10: 'fjfhkkk$%%*'",
     "output_type": "error",
     "traceback": [
      "\u001b[31m---------------------------------------------------------------------------\u001b[39m",
      "\u001b[31mValueError\u001b[39m                                Traceback (most recent call last)",
      "\u001b[36mCell\u001b[39m\u001b[36m \u001b[39m\u001b[32mIn[68]\u001b[39m\u001b[32m, line 31\u001b[39m\n\u001b[32m     28\u001b[39m     \u001b[38;5;28;01mreturn\u001b[39;00m \u001b[33m'\u001b[39m\u001b[33m'\u001b[39m.join(password)\n\u001b[32m     30\u001b[39m \u001b[38;5;66;03m# Example usage\u001b[39;00m\n\u001b[32m---> \u001b[39m\u001b[32m31\u001b[39m password_length = \u001b[38;5;28;43mint\u001b[39;49m\u001b[43m(\u001b[49m\u001b[38;5;28;43minput\u001b[39;49m\u001b[43m(\u001b[49m\u001b[33;43m\"\u001b[39;49m\u001b[33;43mEnter desired password length (min 4): \u001b[39;49m\u001b[33;43m\"\u001b[39;49m\u001b[43m)\u001b[49m\u001b[43m)\u001b[49m\n\u001b[32m     32\u001b[39m \u001b[38;5;28mprint\u001b[39m(\u001b[33m\"\u001b[39m\u001b[33mGenerated password:\u001b[39m\u001b[33m\"\u001b[39m, generate_password(password_length))\n",
      "\u001b[31mValueError\u001b[39m: invalid literal for int() with base 10: 'fjfhkkk$%%*'"
     ]
    }
   ],
   "source": [
    "### 10 th question\n",
    "### Write a Python program to generate a random password containing letters, digits, and special characters.\n",
    "import random\n",
    "import string\n",
    "\n",
    "def generate_password(length=12):\n",
    "    if length < 4:\n",
    "        raise ValueError(\"Password length should be at least 4 characters.\")\n",
    "    \n",
    "    # Characters categories\n",
    "    letters = string.ascii_letters      # a-zA-Z\n",
    "    digits = string.digits              # 0-9\n",
    "    special_chars = string.punctuation  # Special characters\n",
    "    \n",
    "    # Ensure password has at least one char from each category\n",
    "    password = [\n",
    "        random.choice(letters),\n",
    "        random.choice(digits),\n",
    "        random.choice(special_chars)\n",
    "    ]\n",
    "    \n",
    "    # Fill the rest with a mix of all characters\n",
    "    all_chars = letters + digits + special_chars\n",
    "    password += random.choices(all_chars, k=length - 3)\n",
    "    \n",
    "    # Shuffle the resulting password list and convert to string\n",
    "    random.shuffle(password)\n",
    "    return ''.join(password)\n",
    "\n",
    "# Example usage\n",
    "password_length = int(input(\"Enter desired password length (min 4): \"))\n",
    "print(\"Generated password:\", generate_password(password_length))"
   ]
  }
 ],
 "metadata": {
  "kernelspec": {
   "display_name": "Python 3",
   "language": "python",
   "name": "python3"
  },
  "language_info": {
   "codemirror_mode": {
    "name": "ipython",
    "version": 3
   },
   "file_extension": ".py",
   "mimetype": "text/x-python",
   "name": "python",
   "nbconvert_exporter": "python",
   "pygments_lexer": "ipython3",
   "version": "3.13.3"
  }
 },
 "nbformat": 4,
 "nbformat_minor": 5
}
