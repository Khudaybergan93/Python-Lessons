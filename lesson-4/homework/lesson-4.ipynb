{
 "cells": [
  {
   "cell_type": "code",
   "execution_count": 6,
   "id": "29234d62",
   "metadata": {},
   "outputs": [
    {
     "name": "stdout",
     "output_type": "stream",
     "text": [
      "Dictionary sorted by value (ascending):\n",
      "{'age': 23, 'weight': 60, 'height': 175, 'salary': 800}\n",
      "\n",
      "Dictionary sorted by value (descending):\n",
      "{'salary': 800, 'height': 175, 'weight': 60, 'age': 23}\n"
     ]
    }
   ],
   "source": [
    "### 1 st question\n",
    "### Write a Python script to sort (ascending and descending) a dictionary by value.\n",
    "My_dictionary={'age':23,'weight':60, 'height':175,'salary':800}\n",
    "def get_value(item):\n",
    "    return item[1]\n",
    "ascending = sorted(My_dictionary.items(), key=get_value)\n",
    "ascending_dict = dict(ascending)\n",
    "\n",
    "print(\"Dictionary sorted by value (ascending):\")\n",
    "print(ascending_dict)\n",
    "\n",
    "# Sort by value in descending order\n",
    "descending = sorted(My_dictionary.items(), key=get_value, reverse=True)\n",
    "descending_dict = dict(descending)\n",
    "\n",
    "print(\"\\nDictionary sorted by value (descending):\")\n",
    "print(descending_dict)"
   ]
  },
  {
   "cell_type": "code",
   "execution_count": 7,
   "id": "5ceafde4",
   "metadata": {},
   "outputs": [
    {
     "name": "stdout",
     "output_type": "stream",
     "text": [
      "Updated dictionary:\n",
      "{0: 10, 1: 20, 2: 30}\n"
     ]
    }
   ],
   "source": [
    "### 2 nd question\n",
    "### Write a Python script to add a key to a dictionary.\n",
    "my_dict = {0: 10, 1: 20}\n",
    "\n",
    "my_dict[2] = 30\n",
    "\n",
    "print(\"Updated dictionary:\")\n",
    "print(my_dict)"
   ]
  },
  {
   "cell_type": "code",
   "execution_count": 8,
   "id": "00fed230",
   "metadata": {},
   "outputs": [
    {
     "name": "stdout",
     "output_type": "stream",
     "text": [
      "Merged dictionary:\n",
      "{1: 10, 2: 20, 3: 30, 4: 40, 5: 50, 6: 60}\n"
     ]
    }
   ],
   "source": [
    "### 3 rd question\n",
    "### Write a Python script to concatenate the \n",
    "# following dictionaries to create a new one.\n",
    "dic1 = {1: 10, 2: 20}\n",
    "dic2 = {3: 30, 4: 40}\n",
    "dic3 = {5: 50, 6: 60}\n",
    "\n",
    "# Merge all dictionaries into one\n",
    "merged_dict = {}\n",
    "merged_dict.update(dic1)\n",
    "merged_dict.update(dic2)\n",
    "merged_dict.update(dic3)\n",
    "\n",
    "# Print the merged dictionary\n",
    "print(\"Merged dictionary:\")\n",
    "print(merged_dict)\n"
   ]
  },
  {
   "cell_type": "code",
   "execution_count": 12,
   "id": "f0a39906",
   "metadata": {},
   "outputs": [
    {
     "name": "stdout",
     "output_type": "stream",
     "text": [
      "Generated dictionary:\n",
      "{1: 1, 2: 4, 3: 9, 4: 16, 5: 25}\n"
     ]
    }
   ],
   "source": [
    "### 4 th question\n",
    "### Write a Python script to generate and print a dictionary that \n",
    "# contains a number (between 1 and n) in the form (x, x*x)\n",
    "# Sample Dictionary (n = 5):\n",
    "\n",
    "# {1: 1, 2: 4, 3: 9, 4: 16, 5: 25}\n",
    "\n",
    "n = int(input(\"Enter a number (n): \"))\n",
    "\n",
    "square_dict = {}\n",
    "\n",
    "for x in range(1, n + 1):\n",
    "    square_dict[x] = x * x\n",
    "\n",
    "print(\"Generated dictionary:\")\n",
    "print(square_dict)\n"
   ]
  },
  {
   "cell_type": "code",
   "execution_count": 13,
   "id": "2fb3ebe3",
   "metadata": {},
   "outputs": [
    {
     "name": "stdout",
     "output_type": "stream",
     "text": [
      "Dictionary of numbers and their squares:\n",
      "{1: 1, 2: 4, 3: 9, 4: 16, 5: 25, 6: 36, 7: 49, 8: 64, 9: 81, 10: 100, 11: 121, 12: 144, 13: 169, 14: 196, 15: 225}\n"
     ]
    }
   ],
   "source": [
    "### 5 th question\n",
    "## Write a Python script to print a dictionary where the keys are numbers\n",
    "# between 1 and 15 (both included) and the values are the square of the keys.\n",
    "\n",
    "## Expected Output:\n",
    "\n",
    "## {1: 1, 2: 4, 3: 9, 4: 16, 5: 25, 6: 36, 7: 49, 8: 64, 9: 81, 10: 100, 11: 121, 12: 144, 13: 169, 14: 196, 15: 225}\n",
    "\n",
    "squares = {}\n",
    "\n",
    "for i in range(1, 16):\n",
    "    squares[i] = i * i  \n",
    "\n",
    "print(\"Dictionary of numbers and their squares:\")\n",
    "print(squares)"
   ]
  },
  {
   "cell_type": "code",
   "execution_count": 14,
   "id": "573bd102",
   "metadata": {},
   "outputs": [
    {
     "data": {
      "text/plain": [
       "{1, 2, 3, 4, 5, 6, 9}"
      ]
     },
     "execution_count": 14,
     "metadata": {},
     "output_type": "execute_result"
    }
   ],
   "source": [
    "## Set Exercises\n",
    "## 1 st question\n",
    "## Write a Python program to create a set.\n",
    "my_list=[1,2,3,2,1,4,5,2,6,9]\n",
    "new_set=set(my_list)\n",
    "new_set\n"
   ]
  },
  {
   "cell_type": "code",
   "execution_count": 15,
   "id": "e5740cf1",
   "metadata": {},
   "outputs": [
    {
     "name": "stdout",
     "output_type": "stream",
     "text": [
      "Items in the set:\n",
      "apple\n",
      "banana\n",
      "cherry\n",
      "date\n"
     ]
    }
   ],
   "source": [
    "### 2 nd question\n",
    "## Write a Python program to iterate over sets.\n",
    "my_set = {\"apple\", \"banana\", \"cherry\", \"date\"}\n",
    "\n",
    "# Print each item in the set using a for loop\n",
    "print(\"Items in the set:\")\n",
    "for item in my_set:\n",
    "    print(item)"
   ]
  },
  {
   "cell_type": "code",
   "execution_count": 30,
   "id": "56a22350",
   "metadata": {},
   "outputs": [
    {
     "data": {
      "text/plain": [
       "{'Fresh Fruit', 'apple', 'banana', 'cherry', 'date'}"
      ]
     },
     "execution_count": 30,
     "metadata": {},
     "output_type": "execute_result"
    }
   ],
   "source": [
    "### 3 rd question\n",
    "### Write a Python program to add member(s) to a set.\n",
    "my_set = {\"apple\", \"banana\", \"cherry\", \"date\"}\n",
    "my_set.add('Fresh Fruit')\n",
    "my_set"
   ]
  },
  {
   "cell_type": "code",
   "execution_count": 31,
   "id": "7e43c48a",
   "metadata": {},
   "outputs": [
    {
     "data": {
      "text/plain": [
       "{'Fresh Fruit', 'apple', 'banana', 'date'}"
      ]
     },
     "execution_count": 31,
     "metadata": {},
     "output_type": "execute_result"
    }
   ],
   "source": [
    "## 4 th question\n",
    "### Write a Python program to remove item(s) from a given set.\n",
    "my_set={'Fresh Fruit', 'apple', 'banana', 'cherry', 'date'}\n",
    "my_set.discard('cherry')\n",
    "my_set"
   ]
  },
  {
   "cell_type": "code",
   "execution_count": 34,
   "id": "9b2a0497",
   "metadata": {},
   "outputs": [
    {
     "name": "stdout",
     "output_type": "stream",
     "text": [
      "'apple' was removed from the set.\n",
      "Updated set: {'banana', 'cherry'}\n"
     ]
    }
   ],
   "source": [
    "## 5 th question\n",
    "### Write a Python program to remove an item from\n",
    "#  a set if it is present in the set.\n",
    "my_set = {\"apple\", \"banana\", \"cherry\"}\n",
    "\n",
    "item_to_remove = str(input())\n",
    "\n",
    "if item_to_remove in my_set:\n",
    "    my_set.remove(item_to_remove)\n",
    "    print(f\"'{item_to_remove}' was removed from the set.\")\n",
    "else:\n",
    "    print(f\"'{item_to_remove}' is not in the set.\")\n",
    "\n",
    "print(\"Updated set:\", my_set)"
   ]
  }
 ],
 "metadata": {
  "kernelspec": {
   "display_name": "Python 3",
   "language": "python",
   "name": "python3"
  },
  "language_info": {
   "codemirror_mode": {
    "name": "ipython",
    "version": 3
   },
   "file_extension": ".py",
   "mimetype": "text/x-python",
   "name": "python",
   "nbconvert_exporter": "python",
   "pygments_lexer": "ipython3",
   "version": "3.13.3"
  }
 },
 "nbformat": 4,
 "nbformat_minor": 5
}
