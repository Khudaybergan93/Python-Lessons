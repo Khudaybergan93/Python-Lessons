{
 "cells": [
  {
   "cell_type": "code",
   "execution_count": 2,
   "id": "96d127a6",
   "metadata": {},
   "outputs": [
    {
     "name": "stdout",
     "output_type": "stream",
     "text": [
      "True\n"
     ]
    }
   ],
   "source": [
    "### Exercise 1\n",
    "def is_prime(n):\n",
    "  if n>0 and n%2==0:\n",
    "    print('False')\n",
    "  else:\n",
    "    print('True')\n",
    "is_prime(7)\n"
   ]
  },
  {
   "cell_type": "code",
   "execution_count": 18,
   "id": "f8cd9d17",
   "metadata": {},
   "outputs": [
    {
     "data": {
      "text/plain": [
       "6"
      ]
     },
     "execution_count": 18,
     "metadata": {},
     "output_type": "execute_result"
    }
   ],
   "source": [
    "### Exercise 2\n",
    "\n",
    "def digit_sum(k):\n",
    "    return sum(int(digit) for digit in str(k))\n",
    "digit_sum(24)"
   ]
  },
  {
   "cell_type": "code",
   "execution_count": 34,
   "id": "2091993e",
   "metadata": {},
   "outputs": [
    {
     "name": "stdout",
     "output_type": "stream",
     "text": [
      "2 4 8 16 "
     ]
    }
   ],
   "source": [
    "### Exercise 3\n",
    "def print_powers_of_two(N):\n",
    "    power = 1\n",
    "    while True:\n",
    "        power *= 2\n",
    "        if power > N:\n",
    "            break\n",
    "        print(power, end=' ')\n",
    "print_powers_of_two(25)"
   ]
  },
  {
   "cell_type": "code",
   "execution_count": null,
   "id": "b83b6eb5",
   "metadata": {},
   "outputs": [],
   "source": []
  }
 ],
 "metadata": {
  "kernelspec": {
   "display_name": "Python 3",
   "language": "python",
   "name": "python3"
  },
  "language_info": {
   "codemirror_mode": {
    "name": "ipython",
    "version": 3
   },
   "file_extension": ".py",
   "mimetype": "text/x-python",
   "name": "python",
   "nbconvert_exporter": "python",
   "pygments_lexer": "ipython3",
   "version": "3.13.3"
  }
 },
 "nbformat": 4,
 "nbformat_minor": 5
}
