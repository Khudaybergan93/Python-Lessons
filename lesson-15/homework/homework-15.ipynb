{
 "cells": [
  {
   "cell_type": "code",
   "execution_count": null,
   "id": "a2d35491",
   "metadata": {},
   "outputs": [],
   "source": [
    "### 1 st question.\n",
    "# Create a new database with a table named Roster that\n",
    "#  has three fields: Name, Species, and Age.\n",
    "#  The Name and Species columns should be text fields, and the Age column \n",
    "# should be an integer field.\n",
    "import sqlite3\n",
    "\n",
    "\n",
    "connection = sqlite3.connect(\"sample.db\")\n",
    "cursor=connection.cursor()\n",
    "Roster=\"\"\"Create table Roster (Name text,\n",
    "                               Species text,\n",
    "                               Age int)\"\"\"\n",
    "cursor.execute(Roster)\n",
    "connection.commit()\n",
    "connection.close()"
   ]
  },
  {
   "cell_type": "code",
   "execution_count": null,
   "id": "d92b0f2c",
   "metadata": {},
   "outputs": [],
   "source": [
    "### 2 nd question\n",
    "#Populate your new table with the following values:\n",
    "# Name\tSpecies\tAge\n",
    "# Benjamin Sisko\tHuman\t40\n",
    "# Jadzia Dax\tTrill\t300\n",
    "# Kira Nerys\tBajoran\t29\n",
    "import sqlite3\n",
    "\n",
    "with sqlite3.connect(\"sample.db\") as connection:\n",
    "    try:\n",
    "        Roster = \"\"\"INSERT INTO Roster (Name, Species, Age) VALUES (\"Benjamin Sisko\", \"Human\", 30)\"\"\"\n",
    "        cursor = connection.cursor()\n",
    "        cursor.execute(Roster)\n",
    "    except Exception as e:\n",
    "        print(str(e))"
   ]
  },
  {
   "cell_type": "code",
   "execution_count": 7,
   "id": "047d3867",
   "metadata": {},
   "outputs": [],
   "source": [
    "import sqlite3\n",
    "\n",
    "with sqlite3.connect(\"sample.db\") as connection:\n",
    "    cursor = connection.cursor()\n",
    "\n",
    "\n",
    "    Roster = \"\"\"drop table if exists Roster;\n",
    "    create table Roster (Name text, Species text, Age int);\n",
    "    insert into Roster values (\"Benjamin Sisko\", \"Human\", 30),(\"Jadzia Dax\", \"Trill\", 300), (\"Kira Nerys\", \"Bajoran\", 29);\n",
    "    \"\"\"\n",
    "\n",
    "    cursor.executescript(Roster)"
   ]
  },
  {
   "cell_type": "code",
   "execution_count": null,
   "id": "b55d3835",
   "metadata": {},
   "outputs": [
    {
     "data": {
      "text/plain": [
       "<sqlite3.Cursor at 0x1cc4a3b42c0>"
      ]
     },
     "execution_count": 10,
     "metadata": {},
     "output_type": "execute_result"
    }
   ],
   "source": [
    "## 3 rd question. \n",
    "# Update the Name of Jadzia Dax to be Ezri Dax\n",
    "cursor.execute(\"\"\"\n",
    "    UPDATE Roster\n",
    "    SET Name = 'Ezri Dax'\n",
    "    WHERE Name = 'Jadzia Dax';\n",
    "\"\"\")"
   ]
  },
  {
   "cell_type": "code",
   "execution_count": 11,
   "id": "1a834517",
   "metadata": {},
   "outputs": [
    {
     "name": "stdout",
     "output_type": "stream",
     "text": [
      "('Kira Nerys', 29)\n"
     ]
    }
   ],
   "source": [
    "## 4 th question. \n",
    "# Display the Name and Age of everyone in the table classified as Bajoran.\n",
    "cursor.execute(\"\"\"\n",
    "    SELECT Name, Age\n",
    "    FROM Roster\n",
    "    WHERE Species = 'Bajoran';\n",
    "\"\"\")\n",
    "\n",
    "bajoran_rows = cursor.fetchall()\n",
    "\n",
    "for row in bajoran_rows:\n",
    "    print(row)"
   ]
  }
 ],
 "metadata": {
  "kernelspec": {
   "display_name": "Python 3",
   "language": "python",
   "name": "python3"
  },
  "language_info": {
   "codemirror_mode": {
    "name": "ipython",
    "version": 3
   },
   "file_extension": ".py",
   "mimetype": "text/x-python",
   "name": "python",
   "nbconvert_exporter": "python",
   "pygments_lexer": "ipython3",
   "version": "3.13.3"
  }
 },
 "nbformat": 4,
 "nbformat_minor": 5
}
