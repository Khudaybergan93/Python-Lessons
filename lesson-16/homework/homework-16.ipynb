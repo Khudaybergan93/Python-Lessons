{
 "cells": [
  {
   "cell_type": "code",
   "execution_count": 1,
   "id": "d1aa3253",
   "metadata": {},
   "outputs": [],
   "source": [
    "import numpy"
   ]
  },
  {
   "cell_type": "code",
   "execution_count": 3,
   "id": "37b71db5",
   "metadata": {},
   "outputs": [
    {
     "name": "stdout",
     "output_type": "stream",
     "text": [
      "Original List: [12.23, 13.32, 100, 36.32]\n",
      "One-dimensional NumPy array: [ 12.23  13.32 100.    36.32]\n"
     ]
    }
   ],
   "source": [
    "# 1 st question\n",
    "# Write a NumPy program to convert a list of numeric values into a one-dimensional NumPy array.\n",
    "\n",
    "# Expected Output:\n",
    "\n",
    "# Original List: [12.23, 13.32, 100, 36.32] One-dimensional NumPy array: [ 12.23 13.32 100. 36.32]\n",
    "import numpy as np\n",
    "\n",
    "original_list = [12.23, 13.32, 100, 36.32]\n",
    "print(\"Original List:\", original_list)\n",
    "\n",
    "array_1d = np.array(original_list)\n",
    "print(\"One-dimensional NumPy array:\", array_1d)"
   ]
  },
  {
   "cell_type": "code",
   "execution_count": 4,
   "id": "2f900d78",
   "metadata": {},
   "outputs": [
    {
     "name": "stdout",
     "output_type": "stream",
     "text": [
      "[[ 2  3  4]\n",
      " [ 5  6  7]\n",
      " [ 8  9 10]]\n"
     ]
    }
   ],
   "source": [
    "# 2 nd question\n",
    "# 2. Create 3x3 Matrix (2?10)\n",
    "# Write a NumPy program to create a 3x3 matrix with values ranging from 2 to 10.\n",
    "\n",
    "# Expected Output:\n",
    "\n",
    "# [[ 2 3 4] [ 5 6 7] [ 8 9 10]]\n",
    "matrix = np.arange(2, 11).reshape(3, 3)\n",
    "print(matrix)"
   ]
  },
  {
   "cell_type": "code",
   "execution_count": 5,
   "id": "a0d60e71",
   "metadata": {},
   "outputs": [
    {
     "name": "stdout",
     "output_type": "stream",
     "text": [
      "Original Null Vector: [0. 0. 0. 0. 0. 0. 0. 0. 0. 0.]\n",
      "Updated Vector: [ 0.  0.  0.  0.  0. 11.  0.  0.  0.  0.]\n"
     ]
    }
   ],
   "source": [
    "# 3 rd question\n",
    "# Null Vector (10) & Update Sixth Value\n",
    "# Write a NumPy program to create a null vector of size 10 and update the sixth value to 11.\n",
    "\n",
    "# [ 0. 0. 0. 0. 0. 0. 0. 0. 0. 0.]\n",
    "\n",
    "# Update sixth value to 11 [ 0. 0. 0. 0. 0. 0. 11. 0. 0. 0.]\n",
    "\n",
    "null_vector = np.zeros(10)\n",
    "print(\"Original Null Vector:\", null_vector)\n",
    "\n",
    "null_vector[5] = 11\n",
    "print(\"Updated Vector:\", null_vector)"
   ]
  },
  {
   "cell_type": "code",
   "execution_count": 7,
   "id": "92f3f43c",
   "metadata": {},
   "outputs": [
    {
     "name": "stdout",
     "output_type": "stream",
     "text": [
      "[12 13 14 15 16 17 18 19 20 21 22 23 24 25 26 27 28 29 30 31 32 33 34 35\n",
      " 36 37]\n"
     ]
    }
   ],
   "source": [
    "## 4 th question\n",
    "# Write a NumPy program to create an array with values ranging from 12 to 38.\n",
    "\n",
    "# Expected Output:\n",
    "\n",
    "# [12 13 14 15 16 17 18 19 20 21 22 23 24 25 26 27 28 29 30 31 32 33 34 35 36 37]\n",
    "array = np.arange(12, 38)\n",
    "print(array)"
   ]
  },
  {
   "cell_type": "code",
   "execution_count": null,
   "id": "820ab81a",
   "metadata": {},
   "outputs": [
    {
     "name": "stdout",
     "output_type": "stream",
     "text": [
      "Original array: [1 2 3 4]\n",
      "Array converted to float: [1. 2. 3. 4.]\n"
     ]
    }
   ],
   "source": [
    "# 5 th question\n",
    "## Write a NumPy program to convert an array to a floating type.\n",
    "\n",
    "# Sample output:\n",
    "\n",
    "# Original array [1, 2, 3, 4]\n",
    "import numpy as np\n",
    "original_array = np.array([1, 2, 3, 4])\n",
    "print(\"Original array:\", original_array)\n",
    "\n",
    "\n",
    "float_array = original_array.astype(float)\n",
    "print(\"Array converted to float:\", float_array)"
   ]
  },
  {
   "cell_type": "code",
   "execution_count": null,
   "id": "f7ade529",
   "metadata": {},
   "outputs": [
    {
     "name": "stdout",
     "output_type": "stream",
     "text": [
      "Values in Centigrade degrees: [-17.78 -11.11   7.34   1.11  37.73   0.  ]\n",
      "Values in Fahrenheit degrees: [-4.0000e-03  1.2002e+01  4.5212e+01  3.3998e+01  9.9914e+01  3.2000e+01]\n"
     ]
    }
   ],
   "source": [
    "# 6 th question\n",
    "# Write a NumPy program to convert Centigrade degrees into Fahrenheit degrees. Centigrade values are stored in a NumPy array.\n",
    "\n",
    "# Sample Array [0, 12, 45.21, 34, 99.91] [-17.78, -11.11, 7.34, 1.11, 37.73, 0. ]\n",
    "\n",
    "\n",
    "celsius_values = np.array([-17.78, -11.11, 7.34, 1.11, 37.73, 0.])\n",
    "print(\"Values in Centigrade degrees:\", celsius_values)\n",
    "\n",
    "fahrenheit_values = celsius_values * 9/5 + 32\n",
    "print(\"Values in Fahrenheit degrees:\", fahrenheit_values)"
   ]
  },
  {
   "cell_type": "code",
   "execution_count": 10,
   "id": "6b450efe",
   "metadata": {},
   "outputs": [
    {
     "name": "stdout",
     "output_type": "stream",
     "text": [
      "Original array: [10 20 30]\n",
      "After append values to the end of the array: [10 20 30 40 50 60 70 80 90]\n"
     ]
    }
   ],
   "source": [
    "## 7 th question\n",
    "# 7. Append Values to Array (Do self-tudy)\n",
    "# Write a NumPy program to append values to the end of an array.\n",
    "\n",
    "# Expected Output:\n",
    "\n",
    "# Original array: [10, 20, 30]\n",
    "\n",
    "# After append values to the end of the array: [10 20 30 40 50 60 70 80 90]\n",
    "original_array = np.array([10, 20, 30])\n",
    "print(\"Original array:\", original_array)\n",
    "\n",
    "values_to_append = [40, 50, 60, 70, 80, 90]\n",
    "\n",
    "new_array = np.append(original_array, values_to_append)\n",
    "print(\"After append values to the end of the array:\", new_array)\n"
   ]
  },
  {
   "cell_type": "code",
   "execution_count": 11,
   "id": "088c1043",
   "metadata": {},
   "outputs": [
    {
     "name": "stdout",
     "output_type": "stream",
     "text": [
      "Random Array: [67 15 70 85 53 33 22 98 37 68]\n",
      "Mean: 54.8\n",
      "Median: 60.0\n",
      "Standard Deviation: 26.053022857242496\n"
     ]
    }
   ],
   "source": [
    "# 8 th question.\n",
    "# Array Statistical Functions (Do self-tudy)\n",
    "# Create a random NumPy array of 10 elements and calculate the mean,\n",
    "#  median, and standard deviation of the array.\n",
    "\n",
    "random_array = np.random.randint(0, 101, size=10)\n",
    "print(\"Random Array:\", random_array)\n",
    "\n",
    "mean = np.mean(random_array)\n",
    "median = np.median(random_array)\n",
    "std_dev = np.std(random_array)\n",
    "\n",
    "print(\"Mean:\", mean)\n",
    "print(\"Median:\", median)\n",
    "print(\"Standard Deviation:\", std_dev)"
   ]
  },
  {
   "cell_type": "code",
   "execution_count": 13,
   "id": "bffb8628",
   "metadata": {},
   "outputs": [
    {
     "name": "stdout",
     "output_type": "stream",
     "text": [
      "Random Array: [74 47 34 94 88 14 71 74 84 43]\n",
      "Mean: 62.3\n",
      "Median: 72.5\n",
      "Standard Deviation: 24.95215421561834\n"
     ]
    }
   ],
   "source": [
    "## 9 th question\n",
    "# Find min and max\n",
    "# Create a 10x10 array with random values and find the minimum and maximum values.\n",
    "\n",
    "random_array = np.random.randint(0, 101, size=10)\n",
    "print(\"Random Array:\", random_array)\n",
    "\n",
    "mean = np.mean(random_array)\n",
    "median = np.median(random_array)\n",
    "std_dev = np.std(random_array)\n",
    "\n",
    "print(\"Mean:\", mean)\n",
    "print(\"Median:\", median)\n",
    "print(\"Standard Deviation:\", std_dev)"
   ]
  },
  {
   "cell_type": "code",
   "execution_count": 14,
   "id": "0363db30",
   "metadata": {},
   "outputs": [
    {
     "name": "stdout",
     "output_type": "stream",
     "text": [
      "3x3x3 Random Array:\n",
      " [[[0.45634326 0.93869953 0.58979775]\n",
      "  [0.88147685 0.14439506 0.56151051]\n",
      "  [0.34032795 0.19252438 0.82057465]]\n",
      "\n",
      " [[0.96215676 0.34569705 0.35206398]\n",
      "  [0.89197299 0.11729604 0.92180586]\n",
      "  [0.96480478 0.36500007 0.72553065]]\n",
      "\n",
      " [[0.19556255 0.62380998 0.64497083]\n",
      "  [0.57564145 0.3250877  0.69654716]\n",
      "  [0.98229498 0.89067359 0.93706122]]]\n"
     ]
    }
   ],
   "source": [
    "# 10 th question\n",
    "# Create a 3x3x3 array with random values.\n",
    "array_3d = np.random.rand(3, 3, 3)\n",
    "print(\"3x3x3 Random Array:\\n\", array_3d)"
   ]
  }
 ],
 "metadata": {
  "kernelspec": {
   "display_name": "Python 3",
   "language": "python",
   "name": "python3"
  },
  "language_info": {
   "codemirror_mode": {
    "name": "ipython",
    "version": 3
   },
   "file_extension": ".py",
   "mimetype": "text/x-python",
   "name": "python",
   "nbconvert_exporter": "python",
   "pygments_lexer": "ipython3",
   "version": "3.13.3"
  }
 },
 "nbformat": 4,
 "nbformat_minor": 5
}
