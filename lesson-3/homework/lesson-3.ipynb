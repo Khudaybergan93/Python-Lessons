{
 "cells": [
  {
   "cell_type": "code",
   "execution_count": 21,
   "id": "a3a929dc",
   "metadata": {},
   "outputs": [
    {
     "data": {
      "text/plain": [
       "'Cherry'"
      ]
     },
     "execution_count": 21,
     "metadata": {},
     "output_type": "execute_result"
    }
   ],
   "source": [
    "### 1 st question\n",
    "### Create a list containing five different fruits\n",
    "###  and print the third fruit.\n",
    "Different_Fruits=list()\n",
    "Different_Fruits=['Apple','Apricot','Cherry','Orange','Ananas']\n",
    "Different_Fruits[2]"
   ]
  },
  {
   "cell_type": "code",
   "execution_count": 2,
   "id": "fd8dd2d3",
   "metadata": {},
   "outputs": [
    {
     "data": {
      "text/plain": [
       "[2, 4, 6, 7, 9, 2, 4, 5, 67, 89]"
      ]
     },
     "execution_count": 2,
     "metadata": {},
     "output_type": "execute_result"
    }
   ],
   "source": [
    "### 2 th question\n",
    "### Create two lists of numbers \n",
    "### and concatenate them into a single list.\n",
    "First_List_of_numbers=[2,4,6,7,9]\n",
    "Second_List_of_numbers=[2,4,5,67,89]\n",
    "First_List_of_numbers.extend(Second_List_of_numbers)\n",
    "First_List_of_numbers\n"
   ]
  },
  {
   "cell_type": "code",
   "execution_count": 15,
   "id": "167c2185",
   "metadata": {},
   "outputs": [
    {
     "name": "stdout",
     "output_type": "stream",
     "text": [
      "[1, 4, 56]\n"
     ]
    }
   ],
   "source": [
    "## 3 th question\n",
    "## Given a list of numbers, extract the first, middle,\n",
    "#  and last elements and store them in a new list.\n",
    "My_numbers=[1,6,8,4,9,34,56]\n",
    "First_Number=My_numbers[0]\n",
    "Middle_Index=len(My_numbers)//2\n",
    "Middle_Number=My_numbers[Middle_Index]\n",
    "Last_Number=My_numbers[-1]\n",
    "Final_Result=[First_Number,Middle_Number,Last_Number]\n",
    "print(Final_Result)\n",
    "\n",
    "\n"
   ]
  },
  {
   "cell_type": "code",
   "execution_count": 17,
   "id": "42dd3da3",
   "metadata": {},
   "outputs": [
    {
     "data": {
      "text/plain": [
       "('Interstellar',\n",
       " 'Dark Knight',\n",
       " 'All quite in Western Front',\n",
       " 'Troy',\n",
       " 'Kingdom of Heaven')"
      ]
     },
     "execution_count": 17,
     "metadata": {},
     "output_type": "execute_result"
    }
   ],
   "source": [
    "### 4 th question\n",
    "### Create a list of your five favorite movies\n",
    "#  and convert it into a tuple.\n",
    "List_Movies=['Interstellar','Dark Knight','All quite in Western Front','Troy','Kingdom of Heaven']\n",
    "New_tuple=tuple(List_Movies)\n",
    "New_tuple"
   ]
  },
  {
   "cell_type": "code",
   "execution_count": 19,
   "id": "0f459223",
   "metadata": {},
   "outputs": [
    {
     "name": "stdout",
     "output_type": "stream",
     "text": [
      "Paris exists in the list\n"
     ]
    }
   ],
   "source": [
    "## 5 th question\n",
    "### Given a list of cities, check if \"Paris\" is in the list and print the result.\n",
    "City_List=['Berlin','Tokyo','Tashkent','New York','Paris','London']\n",
    "if 'Paris' in City_List:\n",
    "    print(\"Paris exists in the list\")\n",
    "else:\n",
    "    print(\"Paris does not exist in the list\")"
   ]
  },
  {
   "cell_type": "code",
   "execution_count": 20,
   "id": "9e4da04b",
   "metadata": {},
   "outputs": [
    {
     "data": {
      "text/plain": [
       "[2, 5, 6, 87, 98, 2, 5, 6, 87, 98]"
      ]
     },
     "execution_count": 20,
     "metadata": {},
     "output_type": "execute_result"
    }
   ],
   "source": [
    "### 6 th question\n",
    "### Create a list of numbers and duplicate it without using loops.\n",
    "New_Numbers=[2,5,6,87,98]\n",
    "New_num=([2,5,6,87,98])*2\n",
    "New_num"
   ]
  },
  {
   "cell_type": "code",
   "execution_count": 21,
   "id": "132ddb5f",
   "metadata": {},
   "outputs": [
    {
     "name": "stdout",
     "output_type": "stream",
     "text": [
      "[45, 34, 67, 89, 12]\n"
     ]
    }
   ],
   "source": [
    "### 7 th question\n",
    "### Given a list of numbers, swap the first and last elements.\n",
    "Selected_Numbers=[12,34,67,89,45]\n",
    "numbers=Selected_Numbers[0]\n",
    "Selected_Numbers[0]=Selected_Numbers[-1]\n",
    "Selected_Numbers[-1]=numbers\n",
    "print(Selected_Numbers)\n",
    "\n"
   ]
  },
  {
   "cell_type": "code",
   "execution_count": 44,
   "id": "689458d7",
   "metadata": {},
   "outputs": [
    {
     "data": {
      "text/plain": [
       "(4, 5, 6, 7)"
      ]
     },
     "execution_count": 44,
     "metadata": {},
     "output_type": "execute_result"
    }
   ],
   "source": [
    "## 8 th question\n",
    "### Create a tuple of numbers from 1 to 10 and print a slice from index 3 to 7.\n",
    "my_tuple=(1,2,3,4,5,6,7,8,9,10)\n",
    "my_tuple[3:7]\n",
    "\n"
   ]
  },
  {
   "cell_type": "code",
   "execution_count": 45,
   "id": "65ae11fc",
   "metadata": {},
   "outputs": [
    {
     "data": {
      "text/plain": [
       "2"
      ]
     },
     "execution_count": 45,
     "metadata": {},
     "output_type": "execute_result"
    }
   ],
   "source": [
    "### 9 th question\n",
    "### Create a list of colors and count how many times \"blue\" appears in the list.\n",
    "list_of_colours=['Blue','Red','Orange','Green','Blue','Yellow','Purple']\n",
    "list_of_colours.count('Blue')"
   ]
  },
  {
   "cell_type": "code",
   "execution_count": 47,
   "id": "86c006c0",
   "metadata": {},
   "outputs": [
    {
     "data": {
      "text/plain": [
       "2"
      ]
     },
     "execution_count": 47,
     "metadata": {},
     "output_type": "execute_result"
    }
   ],
   "source": [
    "## 10 th question\n",
    "### Given a tuple of animals, find the index of \"lion\".\n",
    "tuple_of_animals=('owl','leopard','lion','wolf','fox')\n",
    "tuple_of_animals.index('lion')"
   ]
  },
  {
   "cell_type": "code",
   "execution_count": 48,
   "id": "c7aa3a02",
   "metadata": {},
   "outputs": [
    {
     "name": "stdout",
     "output_type": "stream",
     "text": [
      "(1, 2, 3, 4, 5, 6, 7, 8)\n"
     ]
    }
   ],
   "source": [
    "### 11 th question\n",
    "### Create two tuples of numbers and merge them into a single tuple.\n",
    "first_tuple=(1,2,3,4)\n",
    "second_tuple=(5,6,7,8)\n",
    "merged_tuple=first_tuple+second_tuple\n",
    "print(merged_tuple)\n"
   ]
  },
  {
   "cell_type": "code",
   "execution_count": 50,
   "id": "c0af699f",
   "metadata": {},
   "outputs": [
    {
     "name": "stdout",
     "output_type": "stream",
     "text": [
      "3\n",
      "2\n"
     ]
    }
   ],
   "source": [
    "### 12 th question\n",
    "### Given a list and a tuple, find and print their lengths.\n",
    "list_of_Players=['Marco Reus','Mats hummels','Virgil Van Dayk']\n",
    "tuple_of_countries=('Australia','USA')\n",
    "players=len(list_of_Players)\n",
    "countries=len(tuple_of_countries)\n",
    "print(players)\n",
    "print(countries)\n"
   ]
  },
  {
   "cell_type": "code",
   "execution_count": 51,
   "id": "29fb63ea",
   "metadata": {},
   "outputs": [
    {
     "data": {
      "text/plain": [
       "[2, 3, 4, 5, 6]"
      ]
     },
     "execution_count": 51,
     "metadata": {},
     "output_type": "execute_result"
    }
   ],
   "source": [
    "### 13 th question\n",
    "### Create a tuple of five numbers and convert it into a list.\n",
    "Nums_tuple=(2,3,4,5,6)\n",
    "list_of_nums=list(Nums_tuple)\n",
    "list_of_nums"
   ]
  },
  {
   "cell_type": "code",
   "execution_count": 60,
   "id": "49a2e9c1",
   "metadata": {},
   "outputs": [
    {
     "name": "stdout",
     "output_type": "stream",
     "text": [
      "Max value: 98\n",
      "Min value: 2\n"
     ]
    }
   ],
   "source": [
    "### 14 th question\n",
    "### Given a tuple of numbers, find and print the maximum and minimum values.\n",
    "my_count = (2, 5, 7, 8, 98, 57, 25)\n",
    "max_number=max(my_count)\n",
    "min_number=min(my_count)\n",
    "print(\"Max value:\", max_number)\n",
    "print(\"Min value:\", min_number)"
   ]
  },
  {
   "cell_type": "code",
   "execution_count": 57,
   "id": "8c9d1114",
   "metadata": {},
   "outputs": [
    {
     "name": "stdout",
     "output_type": "stream",
     "text": [
      "['Washington', 'Urgench', 'London']\n"
     ]
    }
   ],
   "source": [
    "## 15 th question\n",
    "### Create a tuple of words and print it in reverse order.\n",
    "word_tuple=('London','Urgench','Washington')\n",
    "reveresed_word=sorted(word_tuple,reverse=True)\n",
    "print(reveresed_word)"
   ]
  }
 ],
 "metadata": {
  "kernelspec": {
   "display_name": "Python 3",
   "language": "python",
   "name": "python3"
  },
  "language_info": {
   "codemirror_mode": {
    "name": "ipython",
    "version": 3
   },
   "file_extension": ".py",
   "mimetype": "text/x-python",
   "name": "python",
   "nbconvert_exporter": "python",
   "pygments_lexer": "ipython3",
   "version": "3.13.3"
  }
 },
 "nbformat": 4,
 "nbformat_minor": 5
}
