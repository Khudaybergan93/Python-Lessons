{
 "cells": [
  {
   "cell_type": "code",
   "execution_count": 2,
   "id": "d82b5ba3",
   "metadata": {},
   "outputs": [
    {
     "data": {
      "text/plain": [
       "Category\n",
       "Clothing       157\n",
       "Electronics    183\n",
       "Home           144\n",
       "Name: Quantity, dtype: int64"
      ]
     },
     "execution_count": 2,
     "metadata": {},
     "output_type": "execute_result"
    }
   ],
   "source": [
    "\n",
    "# You are given a dataset containing sales data for an e-commerce website. The dataset (task\\sales_data.csv) has the following columns:\n",
    "\n",
    "# Date: Date of the sale.\n",
    "# Product: Name of the product sold.\n",
    "# Category: Category to which the product belongs.\n",
    "# Quantity: Number of units sold.\n",
    "# Price: Price per unit.\n",
    "#Tasks:\n",
    "# 1 st question\n",
    "#Group the data by the Category column and calculate the following aggregate statistics for each category:\n",
    "#Total quantity sold.\n",
    "#Average price per unit.\n",
    "# Maximum quantity sold in a single transaction.\n",
    "import pandas as pd\n",
    "sale=pd.read_csv(\"sales_data.csv\")\n",
    "sale\n",
    "sale.groupby(\"Category\")[\"Quantity\"].agg(\"sum\")"
   ]
  },
  {
   "cell_type": "code",
   "execution_count": null,
   "id": "89c8e8d5",
   "metadata": {},
   "outputs": [
    {
     "data": {
      "text/plain": [
       "Category\n",
       "Clothing        31.176471\n",
       "Electronics    276.764706\n",
       "Home            55.000000\n",
       "Name: Price, dtype: float64"
      ]
     },
     "execution_count": 3,
     "metadata": {},
     "output_type": "execute_result"
    }
   ],
   "source": [
    "#Average price per unit.\n",
    "sale.groupby(\"Category\")[\"Price\"].agg(\"mean\")"
   ]
  },
  {
   "cell_type": "code",
   "execution_count": 4,
   "id": "d6374671",
   "metadata": {},
   "outputs": [
    {
     "data": {
      "text/plain": [
       "Category\n",
       "Clothing       15\n",
       "Electronics    15\n",
       "Home           14\n",
       "Name: Quantity, dtype: int64"
      ]
     },
     "execution_count": 4,
     "metadata": {},
     "output_type": "execute_result"
    }
   ],
   "source": [
    "# Maximum quantity sold in a single transaction.\n",
    "sale.groupby(\"Category\")[\"Quantity\"].agg(\"max\")"
   ]
  },
  {
   "cell_type": "code",
   "execution_count": 17,
   "id": "a4a12494",
   "metadata": {},
   "outputs": [
    {
     "data": {
      "text/html": [
       "<div>\n",
       "<style scoped>\n",
       "    .dataframe tbody tr th:only-of-type {\n",
       "        vertical-align: middle;\n",
       "    }\n",
       "\n",
       "    .dataframe tbody tr th {\n",
       "        vertical-align: top;\n",
       "    }\n",
       "\n",
       "    .dataframe thead th {\n",
       "        text-align: right;\n",
       "    }\n",
       "</style>\n",
       "<table border=\"1\" class=\"dataframe\">\n",
       "  <thead>\n",
       "    <tr style=\"text-align: right;\">\n",
       "      <th></th>\n",
       "      <th>Category</th>\n",
       "      <th>Product</th>\n",
       "      <th>Quantity</th>\n",
       "    </tr>\n",
       "  </thead>\n",
       "  <tbody>\n",
       "    <tr>\n",
       "      <th>8</th>\n",
       "      <td>Clothing</td>\n",
       "      <td>Jeans</td>\n",
       "      <td>15</td>\n",
       "    </tr>\n",
       "    <tr>\n",
       "      <th>27</th>\n",
       "      <td>Electronics</td>\n",
       "      <td>Smart TV</td>\n",
       "      <td>15</td>\n",
       "    </tr>\n",
       "    <tr>\n",
       "      <th>46</th>\n",
       "      <td>Home</td>\n",
       "      <td>Pressure Cooker</td>\n",
       "      <td>14</td>\n",
       "    </tr>\n",
       "  </tbody>\n",
       "</table>\n",
       "</div>"
      ],
      "text/plain": [
       "       Category          Product  Quantity\n",
       "8      Clothing            Jeans        15\n",
       "27  Electronics         Smart TV        15\n",
       "46         Home  Pressure Cooker        14"
      ]
     },
     "execution_count": 17,
     "metadata": {},
     "output_type": "execute_result"
    }
   ],
   "source": [
    "# 2 nd question\n",
    "#Identify the top-selling product in each category based on the total quantity sold.\n",
    "\n",
    "top_selling = sale.groupby(['Category', 'Product'])['Quantity'].sum().reset_index()\n",
    "top_product_per_category = top_selling.loc[top_selling.groupby('Category')['Quantity'].idxmax()]\n",
    "top_product_per_category"
   ]
  },
  {
   "cell_type": "code",
   "execution_count": 18,
   "id": "5da40024",
   "metadata": {},
   "outputs": [
    {
     "name": "stdout",
     "output_type": "stream",
     "text": [
      "The date with the highest total sales is 2023-01-07 with sales amount 15150\n"
     ]
    }
   ],
   "source": [
    "#3 rd question\n",
    "# Find the date on which the highest total sales (quantity * price) occurred.\n",
    "sale['Total_Sales'] = sale['Quantity'] * sale['Price']\n",
    "\n",
    "daily_sales = sale.groupby('Date')['Total_Sales'].sum()\n",
    "\n",
    "date_max_sales = daily_sales.idxmax()\n",
    "max_sales_value = daily_sales.max()\n",
    "\n",
    "print(f\"The date with the highest total sales is {date_max_sales} with sales amount {max_sales_value}\")"
   ]
  },
  {
   "cell_type": "code",
   "execution_count": null,
   "id": "fa4b8087",
   "metadata": {},
   "outputs": [
    {
     "name": "stdout",
     "output_type": "stream",
     "text": [
      "CustomerID\n",
      "101    21\n",
      "102    21\n",
      "103    20\n",
      "104    20\n",
      "Name: OrderID, dtype: int64\n"
     ]
    }
   ],
   "source": [
    "# Homework Assignment 2: Examining Customer Orders\n",
    "#You have a dataset (task\\customer_orders.csv) containing information about customer orders. The dataset has the following columns:\n",
    "\n",
    "#OrderID: Unique identifier for each order.\n",
    "# CustomerID: Unique identifier for each customer.\n",
    "# Product: Name of the product ordered.\n",
    "# Quantity: Number of units ordered.\n",
    "# Price: Price per unit.\n",
    "# Tasks:\n",
    "# \n",
    "# 1 st question\n",
    "# Group the data by CustomerID and filter out customers who have made less than 20 orders.\n",
    "import pandas as pd\n",
    "customer=pd.read_csv(\"customer_orders.csv\")\n",
    "customer\n",
    "counts=customer.groupby(\"CustomerID\")[\"OrderID\"].agg(\"count\")\n",
    "\n",
    "customers_20_plus=counts[counts>=20]\n",
    "\n",
    "print(customers_20_plus)\n",
    "# Filter the original DataFrame\n",
    "#filtered_df = df[df['CustomerID'].isin(customers_20_plus)]"
   ]
  },
  {
   "cell_type": "code",
   "execution_count": 33,
   "id": "9cde4a2f",
   "metadata": {},
   "outputs": [
    {
     "name": "stdout",
     "output_type": "stream",
     "text": [
      "CustomerID\n",
      "102    125.595238\n",
      "104    155.750000\n",
      "Name: UnitPrice, dtype: float64\n"
     ]
    }
   ],
   "source": [
    "# 2 nd question\n",
    "# Identify customers who have ordered products with an average price per unit greater than $120.\n",
    "customer['UnitPrice'] = customer['Price'] / customer['Quantity']\n",
    "\n",
    "avg_unit_price = customer.groupby('CustomerID')['UnitPrice'].mean()\n",
    "\n",
    "high_value_customers = avg_unit_price[avg_unit_price > 120]\n",
    "\n",
    "print(high_value_customers)"
   ]
  },
  {
   "cell_type": "code",
   "execution_count": 53,
   "id": "d7392046",
   "metadata": {},
   "outputs": [
    {
     "name": "stdout",
     "output_type": "stream",
     "text": [
      "             Product  Quantity  Price\n",
      "5        Cargo Pants         6    120\n",
      "15       Dress Shirt         5     50\n",
      "19      Formal Shirt         6    105\n",
      "30        Smartphone         5    800\n",
      "32       Sport Shoes         5    120\n",
      "35        Sunglasses         5     60\n",
      "41  Wireless Earbuds         6    360\n"
     ]
    }
   ],
   "source": [
    "#3 rd question\n",
    "#  Find the total quantity and total price for each product ordered,\n",
    "#  and filter out products that have a total quantity less than 5 units.\n",
    "product_summary = customer.groupby('Product').agg({\n",
    "    'Quantity': 'sum',\n",
    "    'Price': 'sum'\n",
    "}).reset_index()\n",
    "\n",
    "# Step 2: Filter out products with total quantity < 5\n",
    "filtered_products = product_summary[product_summary['Quantity'] >= 5]\n",
    "\n",
    "# Step 3: Display result\n",
    "print(filtered_products)\n"
   ]
  },
  {
   "cell_type": "code",
   "execution_count": 11,
   "id": "1c23ddaf",
   "metadata": {},
   "outputs": [
    {
     "ename": "OperationalError",
     "evalue": "no such table: population",
     "output_type": "error",
     "traceback": [
      "\u001b[31m---------------------------------------------------------------------------\u001b[39m",
      "\u001b[31mOperationalError\u001b[39m                          Traceback (most recent call last)",
      "\u001b[36mCell\u001b[39m\u001b[36m \u001b[39m\u001b[32mIn[11]\u001b[39m\u001b[32m, line 18\u001b[39m\n\u001b[32m     15\u001b[39m cursor = connection.cursor()\n\u001b[32m     17\u001b[39m \u001b[38;5;66;03m# Example: Fetch all rows from a table\u001b[39;00m\n\u001b[32m---> \u001b[39m\u001b[32m18\u001b[39m \u001b[43mcursor\u001b[49m\u001b[43m.\u001b[49m\u001b[43mexecute\u001b[49m\u001b[43m(\u001b[49m\u001b[33;43m\"\"\"\u001b[39;49m\u001b[33;43mSelect * from population\u001b[39;49m\u001b[33;43m\"\"\"\u001b[39;49m\u001b[43m)\u001b[49m  \u001b[38;5;66;03m# replace with your actual table name\u001b[39;00m\n\u001b[32m     19\u001b[39m rows = cursor.fetchall()\n\u001b[32m     21\u001b[39m \u001b[38;5;66;03m# Print the rows\u001b[39;00m\n",
      "\u001b[31mOperationalError\u001b[39m: no such table: population"
     ]
    }
   ],
   "source": [
    "# Homework Assignment 3: Population Salary Analysis\n",
    "\n",
    "# 1 st \n",
    "# \"task\\population.db\" sqlite database has population table.\n",
    "# 2 nd \n",
    "# \"task\\population salary analysis.xlsx\" file defines Salary Band categories.\n",
    "# Read the data from population table and calculate following measures:\n",
    "\n",
    "import sqlite3\n",
    "\n",
    "# Replace 'mydata.db' with the actual file name\n",
    "connection = sqlite3.connect('population.db')\n",
    "\n",
    "# Create a cursor object to execute SQL commands\n",
    "cursor = connection.cursor()\n",
    "\n",
    "# Example: Fetch all rows from a table\n",
    "cursor.execute(\"\"\"Select * from population\"\"\")  # replace with your actual table name\n",
    "rows = cursor.fetchall()\n",
    "\n",
    "# Print the rows\n",
    "for row in rows:\n",
    "    print(row)\n",
    "\n",
    "# Always close the connection\n",
    "connection.commit()\n",
    "connection.close()\n",
    "# Percentage of population for each salary category;\n",
    "# Average salary in each salary category;\n",
    "# Median salary in each salary category;\n",
    "# Number of population in each salary category;\n"
   ]
  },
  {
   "cell_type": "code",
   "execution_count": null,
   "id": "95a48b85",
   "metadata": {},
   "outputs": [],
   "source": [
    "# 3 rd \n",
    "# Calculate the same measures in each State\n",
    "\n",
    "\n",
    "#Note: Use SQL only to select data from database. All the other calculations should be done in python."
   ]
  }
 ],
 "metadata": {
  "kernelspec": {
   "display_name": "Python 3",
   "language": "python",
   "name": "python3"
  },
  "language_info": {
   "codemirror_mode": {
    "name": "ipython",
    "version": 3
   },
   "file_extension": ".py",
   "mimetype": "text/x-python",
   "name": "python",
   "nbconvert_exporter": "python",
   "pygments_lexer": "ipython3",
   "version": "3.13.3"
  }
 },
 "nbformat": 4,
 "nbformat_minor": 5
}
