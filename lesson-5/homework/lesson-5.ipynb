{
 "cells": [
  {
   "cell_type": "code",
   "execution_count": 10,
   "id": "69dad1e9",
   "metadata": {},
   "outputs": [
    {
     "name": "stdout",
     "output_type": "stream",
     "text": [
      "2000 is a leap year.\n"
     ]
    }
   ],
   "source": [
    "### 1 st question\n",
    "### Determines whether a given year is a leap year.\n",
    "def is_leap(year):\n",
    "    \"\"\"\n",
    "    Determines whether a given year is a leap year.\n",
    "    \"\"\"\n",
    "    return (year % 4 == 0 and year % 100 != 0) or (year % 400 == 0)\n",
    "\n",
    "# Ask the user to enter a year\n",
    "year = int(input(\"Enter a year: \"))\n",
    "\n",
    "# Check and print whether it's a leap year\n",
    "if is_leap(year):\n",
    "    print(f\"{year} is a leap year.\")\n",
    "else:\n",
    "    print(f\"{year} is not a leap year.\")"
   ]
  },
  {
   "cell_type": "code",
   "execution_count": 22,
   "id": "b4f59ff9",
   "metadata": {},
   "outputs": [
    {
     "name": "stdout",
     "output_type": "stream",
     "text": [
      "Weird\n"
     ]
    }
   ],
   "source": [
    "## 2 nd question\n",
    "# Given an integer, n, perform the following conditional actions:\n",
    "\n",
    "# If n is odd, print Weird\n",
    "# If n is even and in the inclusive range of 2 to 5, print Not Weird\n",
    "# If n is even and in the inclusive range of 6 to 20, print Weird\n",
    "# If n is even and greater than 20, print Not Weird\n",
    "\n",
    "n = int(input(\"Enter an integer: \"))\n",
    "\n",
    "\n",
    "if n % 2 != 0:\n",
    "    print(\"Weird\")\n",
    "elif n % 2 == 0 and 2 <= n <= 5:\n",
    "    print(\"Not Weird\")\n",
    "elif n % 2 == 0 and 6 <= n <= 20:\n",
    "    print(\"Weird\")\n",
    "elif n % 2 == 0 and n > 20:\n",
    "    print(\"Not Weird\")"
   ]
  },
  {
   "cell_type": "code",
   "execution_count": 23,
   "id": "0bff8c95",
   "metadata": {},
   "outputs": [
    {
     "name": "stdout",
     "output_type": "stream",
     "text": [
      "5 is odd number and We don't need it\n"
     ]
    }
   ],
   "source": [
    "### 3 th question\n",
    "### Given two integer numbers a and b. Find even numbers between this numbers. a and b are inclusive. Don't use loop.\n",
    "# Give two solutions.\n",
    "\n",
    "# Solution 1 with if-else statement.\n",
    "\n",
    "# Solution 2 without if-else statement.\n",
    "\n",
    "## 1 st solution\n",
    "n=int(input())\n",
    "a=int(input())\n",
    "b=int(input())\n",
    "\n",
    "if n%2==0 and a<=n<=b:\n",
    "    print(f'{n} is even number which we are looking for')\n",
    "else:\n",
    "    print(f\"{n} is odd number and We don't need it\")\n",
    "\n"
   ]
  },
  {
   "cell_type": "code",
   "execution_count": 19,
   "id": "8aab6c7a",
   "metadata": {},
   "outputs": [
    {
     "name": "stdout",
     "output_type": "stream",
     "text": [
      "Even numbers: [4, 6, 8, 10, 12]\n"
     ]
    }
   ],
   "source": [
    "## 2 nd solution\n",
    "a = 3\n",
    "b = 12\n",
    "\n",
    "start = a if a % 2 == 0 else a + 1  \n",
    "evens = list(range(start, b + 1, 2))\n",
    "\n",
    "print(\"Even numbers:\", evens)"
   ]
  }
 ],
 "metadata": {
  "kernelspec": {
   "display_name": "Python 3",
   "language": "python",
   "name": "python3"
  },
  "language_info": {
   "codemirror_mode": {
    "name": "ipython",
    "version": 3
   },
   "file_extension": ".py",
   "mimetype": "text/x-python",
   "name": "python",
   "nbconvert_exporter": "python",
   "pygments_lexer": "ipython3",
   "version": "3.13.3"
  }
 },
 "nbformat": 4,
 "nbformat_minor": 5
}
